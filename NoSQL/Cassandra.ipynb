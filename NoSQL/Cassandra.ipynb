{
 "cells": [
  {
   "cell_type": "markdown",
   "metadata": {},
   "source": [
    "* http://cassandra.apache.org/doc/latest/getting_started/\n"
   ]
  },
  {
   "cell_type": "markdown",
   "metadata": {},
   "source": [
    "* https://help.aiven.io/en/articles/1803299-getting-started-with-aiven-for-cassandra"
   ]
  },
  {
   "cell_type": "code",
   "execution_count": null,
   "metadata": {},
   "outputs": [],
   "source": [
    "# https://github.com/datastax/python-driver"
   ]
  },
  {
   "cell_type": "code",
   "execution_count": 3,
   "metadata": {},
   "outputs": [
    {
     "name": "stdout",
     "output_type": "stream",
     "text": [
      "Collecting cassandra-driver\n",
      "  Downloading https://files.pythonhosted.org/packages/c0/e5/d8c87fd08f28a750eb4169f882fc3c797ee22700bc1f3449e6419959bb92/cassandra_driver-3.22.0-cp37-cp37m-win_amd64.whl (3.0MB)\n",
      "Requirement already satisfied: six>=1.9 in c:\\programdata\\anaconda3\\lib\\site-packages (from cassandra-driver) (1.12.0)\n",
      "Collecting geomet<0.2,>=0.1 (from cassandra-driver)\n",
      "  Downloading https://files.pythonhosted.org/packages/d3/ad/9efd4457a27048128d1e8a83d48874dabd78cdcb9b36ce2b4eac5d74b5c0/geomet-0.1.2.tar.gz\n",
      "Requirement already satisfied: click in c:\\programdata\\anaconda3\\lib\\site-packages (from geomet<0.2,>=0.1->cassandra-driver) (7.0)\n",
      "Building wheels for collected packages: geomet\n",
      "  Building wheel for geomet (setup.py): started\n",
      "  Building wheel for geomet (setup.py): finished with status 'done'\n",
      "  Stored in directory: C:\\Users\\val-p1\\AppData\\Local\\pip\\Cache\\wheels\\08\\43\\84\\50bd44f043b3c04c06b798cc5fc31d93586d38dfa3a48ec051\n",
      "Successfully built geomet\n",
      "Installing collected packages: geomet, cassandra-driver\n",
      "Successfully installed cassandra-driver-3.22.0 geomet-0.1.2\n"
     ]
    }
   ],
   "source": [
    "!pip install cassandra-driver"
   ]
  },
  {
   "cell_type": "code",
   "execution_count": 4,
   "metadata": {},
   "outputs": [],
   "source": [
    "from cassandra.cluster import Cluster"
   ]
  },
  {
   "cell_type": "code",
   "execution_count": null,
   "metadata": {},
   "outputs": [],
   "source": [
    "cluster = Cluster()"
   ]
  },
  {
   "cell_type": "code",
   "execution_count": 5,
   "metadata": {},
   "outputs": [],
   "source": [
    "# Copyright (c) 2018 Aiven, Helsinki, Finland. https://aiven.io/\n",
    "\n",
    "import ssl\n",
    "\n",
    "from cassandra.auth import PlainTextAuthProvider\n",
    "from cassandra.cluster import Cluster\n",
    "from cassandra.policies import DCAwareRoundRobinPolicy\n",
    "\n",
    "\n",
    "def cassandra_example(args):\n",
    "    auth_provider = PlainTextAuthProvider(args.username, args.password)\n",
    "    ssl_options = {\"ca_certs\": args.ca_path, \"cert_reqs\": ssl.CERT_REQUIRED}\n",
    "    with Cluster([args.host], port=args.port, ssl_options=ssl_options, auth_provider=auth_provider,\n",
    "                 load_balancing_policy=DCAwareRoundRobinPolicy(local_dc='aiven')) as cluster:\n",
    "        with cluster.connect() as session:\n",
    "            # Create a keyspace\n",
    "            session.execute(\"\"\"\n",
    "                CREATE KEYSPACE IF NOT EXISTS example_keyspace\n",
    "                WITH REPLICATION = {'class': 'NetworkTopologyStrategy', 'aiven': 3}\n",
    "            \"\"\")\n",
    "\n",
    "            # Create a table\n",
    "            session.execute(\"\"\"\n",
    "                CREATE TABLE IF NOT EXISTS example_keyspace.example_python (\n",
    "                    id int PRIMARY KEY,\n",
    "                    message text\n",
    "                )\n",
    "            \"\"\")\n",
    "\n",
    "            # Insert some data\n",
    "            for i in range(10):\n",
    "                session.execute(\"\"\"\n",
    "                    INSERT INTO example_keyspace.example_python (id, message)\n",
    "                    VALUES (%s, %s)\n",
    "                \"\"\", (i, \"Hello from Python!\"))\n",
    "\n",
    "            # Read it back\n",
    "            for row in session.execute(\"SELECT id, message FROM example_keyspace.example_python\"):\n",
    "                print(\"Row: id = {}, message = {}\".format(row.id, row.message))"
   ]
  }
 ],
 "metadata": {
  "kernelspec": {
   "display_name": "Python 3",
   "language": "python",
   "name": "python3"
  },
  "language_info": {
   "codemirror_mode": {
    "name": "ipython",
    "version": 3
   },
   "file_extension": ".py",
   "mimetype": "text/x-python",
   "name": "python",
   "nbconvert_exporter": "python",
   "pygments_lexer": "ipython3",
   "version": "3.7.3"
  }
 },
 "nbformat": 4,
 "nbformat_minor": 2
}
