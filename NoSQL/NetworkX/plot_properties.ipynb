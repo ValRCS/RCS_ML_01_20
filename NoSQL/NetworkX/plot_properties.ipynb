{
 "cells": [
  {
   "cell_type": "code",
   "execution_count": 1,
   "metadata": {},
   "outputs": [],
   "source": [
    "%matplotlib inline"
   ]
  },
  {
   "cell_type": "markdown",
   "metadata": {},
   "source": [
    "\n",
    "# Properties\n",
    "\n",
    "\n",
    "Compute some network properties for the lollipop graph.\n"
   ]
  },
  {
   "cell_type": "code",
   "execution_count": 2,
   "metadata": {},
   "outputs": [
    {
     "name": "stdout",
     "output_type": "stream",
     "text": [
      "source vertex {target:length, }\n",
      "0 {0: 0, 1: 1, 2: 1, 3: 1, 4: 2, 5: 3, 6: 4, 7: 5, 8: 6, 9: 7} \n",
      "1 {1: 0, 0: 1, 2: 1, 3: 1, 4: 2, 5: 3, 6: 4, 7: 5, 8: 6, 9: 7} \n",
      "2 {2: 0, 0: 1, 1: 1, 3: 1, 4: 2, 5: 3, 6: 4, 7: 5, 8: 6, 9: 7} \n",
      "3 {3: 0, 0: 1, 1: 1, 2: 1, 4: 1, 5: 2, 6: 3, 7: 4, 8: 5, 9: 6} \n",
      "4 {4: 0, 5: 1, 3: 1, 6: 2, 0: 2, 1: 2, 2: 2, 7: 3, 8: 4, 9: 5} \n",
      "5 {5: 0, 4: 1, 6: 1, 3: 2, 7: 2, 0: 3, 1: 3, 2: 3, 8: 3, 9: 4} \n",
      "6 {6: 0, 5: 1, 7: 1, 4: 2, 8: 2, 3: 3, 9: 3, 0: 4, 1: 4, 2: 4} \n",
      "7 {7: 0, 6: 1, 8: 1, 5: 2, 9: 2, 4: 3, 3: 4, 0: 5, 1: 5, 2: 5} \n",
      "8 {8: 0, 7: 1, 9: 1, 6: 2, 5: 3, 4: 4, 3: 5, 0: 6, 1: 6, 2: 6} \n",
      "9 {9: 0, 8: 1, 7: 2, 6: 3, 5: 4, 4: 5, 3: 6, 0: 7, 1: 7, 2: 7} \n",
      "\n",
      "average shortest path length 2.86\n",
      "\n",
      "length #paths\n",
      "0 10\n",
      "1 24\n",
      "2 16\n",
      "3 14\n",
      "4 12\n",
      "5 10\n",
      "6 8\n",
      "7 6\n",
      "radius: 4\n",
      "diameter: 7\n",
      "eccentricity: {0: 7, 1: 7, 2: 7, 3: 6, 4: 5, 5: 4, 6: 4, 7: 5, 8: 6, 9: 7}\n",
      "center: [5, 6]\n",
      "periphery: [0, 1, 2, 9]\n",
      "density: 0.26666666666666666\n"
     ]
    },
    {
     "name": "stderr",
     "output_type": "stream",
     "text": [
      "C:\\ProgramData\\Anaconda3\\lib\\site-packages\\networkx\\drawing\\nx_pylab.py:611: MatplotlibDeprecationWarning: isinstance(..., numbers.Number)\n",
      "  if cb.is_numlike(alpha):\n"
     ]
    },
    {
     "data": {
      "image/png": "[encoded data removed]",
      "text/plain": [
       "<Figure size 432x288 with 1 Axes>"
      ]
     },
     "metadata": {},
     "output_type": "display_data"
    }
   ],
   "source": [
    "#    Copyright (C) 2004-2019 by\n",
    "#    Aric Hagberg <hagberg@lanl.gov>\n",
    "#    Dan Schult <dschult@colgate.edu>\n",
    "#    Pieter Swart <swart@lanl.gov>\n",
    "#    All rights reserved.\n",
    "#    BSD license.\n",
    "\n",
    "import matplotlib.pyplot as plt\n",
    "from networkx import nx\n",
    "\n",
    "G = nx.lollipop_graph(4, 6)\n",
    "\n",
    "pathlengths = []\n",
    "\n",
    "print(\"source vertex {target:length, }\")\n",
    "for v in G.nodes():\n",
    "    spl = dict(nx.single_source_shortest_path_length(G, v))\n",
    "    print('{} {} '.format(v, spl))\n",
    "    for p in spl:\n",
    "        pathlengths.append(spl[p])\n",
    "\n",
    "print('')\n",
    "print(\"average shortest path length %s\" % (sum(pathlengths) / len(pathlengths)))\n",
    "\n",
    "# histogram of path lengths\n",
    "dist = {}\n",
    "for p in pathlengths:\n",
    "    if p in dist:\n",
    "        dist[p] += 1\n",
    "    else:\n",
    "        dist[p] = 1\n",
    "\n",
    "print('')\n",
    "print(\"length #paths\")\n",
    "verts = dist.keys()\n",
    "for d in sorted(verts):\n",
    "    print('%s %d' % (d, dist[d]))\n",
    "\n",
    "print(\"radius: %d\" % nx.radius(G))\n",
    "print(\"diameter: %d\" % nx.diameter(G))\n",
    "print(\"eccentricity: %s\" % nx.eccentricity(G))\n",
    "print(\"center: %s\" % nx.center(G))\n",
    "print(\"periphery: %s\" % nx.periphery(G))\n",
    "print(\"density: %s\" % nx.density(G))\n",
    "\n",
    "nx.draw(G, with_labels=True)\n",
    "plt.show()"
   ]
  }
 ],
 "metadata": {
  "kernelspec": {
   "display_name": "Python 3",
   "language": "python",
   "name": "python3"
  },
  "language_info": {
   "codemirror_mode": {
    "name": "ipython",
    "version": 3
   },
   "file_extension": ".py",
   "mimetype": "text/x-python",
   "name": "python",
   "nbconvert_exporter": "python",
   "pygments_lexer": "ipython3",
   "version": "3.7.3"
  }
 },
 "nbformat": 4,
 "nbformat_minor": 1
}
