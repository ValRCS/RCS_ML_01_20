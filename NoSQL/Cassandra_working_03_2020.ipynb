{
 "cells": [
  {
   "cell_type": "markdown",
   "metadata": {},
   "source": [
    "* http://cassandra.apache.org/doc/latest/getting_started/\n"
   ]
  },
  {
   "cell_type": "code",
   "execution_count": null,
   "metadata": {},
   "outputs": [],
   "source": []
  },
  {
   "cell_type": "markdown",
   "metadata": {},
   "source": [
    "* https://help.aiven.io/en/articles/1803299-getting-started-with-aiven-for-cassandra"
   ]
  },
  {
   "cell_type": "code",
   "execution_count": null,
   "metadata": {},
   "outputs": [],
   "source": [
    "# https://github.com/datastax/python-driver"
   ]
  },
  {
   "cell_type": "code",
   "execution_count": 1,
   "metadata": {},
   "outputs": [
    {
     "name": "stdout",
     "output_type": "stream",
     "text": [
      "Requirement already satisfied: cassandra-driver in c:\\programdata\\anaconda3\\lib\\site-packages (3.22.0)\n",
      "Requirement already satisfied: six>=1.9 in c:\\programdata\\anaconda3\\lib\\site-packages (from cassandra-driver) (1.12.0)\n",
      "Requirement already satisfied: geomet<0.2,>=0.1 in c:\\programdata\\anaconda3\\lib\\site-packages (from cassandra-driver) (0.1.2)\n",
      "Requirement already satisfied: click in c:\\programdata\\anaconda3\\lib\\site-packages (from geomet<0.2,>=0.1->cassandra-driver) (7.0)\n"
     ]
    }
   ],
   "source": [
    "!pip install cassandra-driver"
   ]
  },
  {
   "cell_type": "code",
   "execution_count": null,
   "metadata": {},
   "outputs": [],
   "source": [
    "!pip install --user cassandra-driver"
   ]
  },
  {
   "cell_type": "code",
   "execution_count": 2,
   "metadata": {},
   "outputs": [],
   "source": [
    "from cassandra.cluster import Cluster"
   ]
  },
  {
   "cell_type": "code",
   "execution_count": null,
   "metadata": {},
   "outputs": [],
   "source": [
    "cluster = Cluster()"
   ]
  },
  {
   "cell_type": "code",
   "execution_count": 4,
   "metadata": {},
   "outputs": [],
   "source": [
    "class Config:\n",
    "    ca_path='ca.pem'\n",
    "    host='cassandra-3630668e-valdis-c169.aivencloud.com'\n",
    "    password='realpwneeded'\n",
    "    port=23114\n",
    "    username='avnadmin'\n",
    "    "
   ]
  },
  {
   "cell_type": "code",
   "execution_count": 3,
   "metadata": {},
   "outputs": [],
   "source": [
    "# Copyright (c) 2018 Aiven, Helsinki, Finland. https://aiven.io/\n",
    "\n",
    "import ssl\n",
    "\n",
    "from cassandra.auth import PlainTextAuthProvider\n",
    "from cassandra.cluster import Cluster\n",
    "from cassandra.policies import DCAwareRoundRobinPolicy\n",
    "\n",
    "\n",
    "def cassandra_example(args):\n",
    "    auth_provider = PlainTextAuthProvider(args.username, args.password)\n",
    "    ssl_options = {\"ca_certs\": args.ca_path, \"cert_reqs\": ssl.CERT_REQUIRED}\n",
    "    with Cluster([args.host], port=args.port, ssl_options=ssl_options, auth_provider=auth_provider,\n",
    "                 load_balancing_policy=DCAwareRoundRobinPolicy(local_dc='aiven')) as cluster:\n",
    "        with cluster.connect() as session:\n",
    "            # Create a keyspace\n",
    "            session.execute(\"\"\"\n",
    "                CREATE KEYSPACE IF NOT EXISTS example_keyspace\n",
    "                WITH REPLICATION = {'class': 'NetworkTopologyStrategy', 'aiven': 3}\n",
    "            \"\"\")\n",
    "\n",
    "            # Create a table\n",
    "            session.execute(\"\"\"\n",
    "                CREATE TABLE IF NOT EXISTS example_keyspace.example_python (\n",
    "                    id int PRIMARY KEY,\n",
    "                    message text\n",
    "                )\n",
    "            \"\"\")\n",
    "\n",
    "            # Insert some data\n",
    "            for i in range(10):\n",
    "                session.execute(\"\"\"\n",
    "                    INSERT INTO example_keyspace.example_python (id, message)\n",
    "                    VALUES (%s, %s)\n",
    "                \"\"\", (i, \"Hello from Python!\"))\n",
    "\n",
    "            # Read it back\n",
    "            for row in session.execute(\"SELECT id, message FROM example_keyspace.example_python\"):\n",
    "                print(\"Row: id = {}, message = {}\".format(row.id, row.message))"
   ]
  },
  {
   "cell_type": "code",
   "execution_count": 63,
   "metadata": {},
   "outputs": [],
   "source": [
    "def cassandra_qry(args, qry):\n",
    "    auth_provider = PlainTextAuthProvider(args.username, args.password)\n",
    "    ssl_options = {\"ca_certs\": args.ca_path, \"cert_reqs\": ssl.CERT_REQUIRED}\n",
    "    with Cluster([args.host], port=args.port, ssl_options=ssl_options, auth_provider=auth_provider,\n",
    "                 load_balancing_policy=DCAwareRoundRobinPolicy(local_dc='aiven')) as cluster:\n",
    "        with cluster.connect() as session:\n",
    "            for row in session.execute(qry):\n",
    "                print(f\"Row: id = {row.id}\")\n",
    "                for key,value in row._asdict().items():\n",
    "                    print(f\"Column {key} - Value {value}\")\n"
   ]
  },
  {
   "cell_type": "code",
   "execution_count": 27,
   "metadata": {
    "scrolled": true
   },
   "outputs": [
    {
     "name": "stderr",
     "output_type": "stream",
     "text": [
      "C:\\ProgramData\\Anaconda3\\lib\\site-packages\\ipykernel_launcher.py:4: DeprecationWarning: Legacy execution parameters will be removed in 4.0. Consider using execution profiles.\n",
      "  after removing the cwd from sys.path.\n",
      "C:\\ProgramData\\Anaconda3\\lib\\site-packages\\ipykernel_launcher.py:4: DeprecationWarning: Using ssl_options without ssl_context is deprecated and will result in an error in the next major release. Please use ssl_context to prepare for that release.\n",
      "  after removing the cwd from sys.path.\n"
     ]
    }
   ],
   "source": [
    "auth_provider = PlainTextAuthProvider(args.username, args.password)\n",
    "ssl_options = {\"ca_certs\": args.ca_path, \"cert_reqs\": ssl.CERT_REQUIRED}\n",
    "cluster = Cluster([args.host], port=args.port, ssl_options=ssl_options, auth_provider=auth_provider,\\\n",
    "                  load_balancing_policy=DCAwareRoundRobinPolicy(local_dc='aiven'))"
   ]
  },
  {
   "cell_type": "code",
   "execution_count": 28,
   "metadata": {},
   "outputs": [],
   "source": [
    "session = cluster.connect()"
   ]
  },
  {
   "cell_type": "code",
   "execution_count": 30,
   "metadata": {},
   "outputs": [
    {
     "data": {
      "text/plain": [
       "<cassandra.cluster.ResultSet at 0x20f6437a5c0>"
      ]
     },
     "execution_count": 30,
     "metadata": {},
     "output_type": "execute_result"
    }
   ],
   "source": [
    "session.execute(\"\"\"\n",
    "                CREATE KEYSPACE IF NOT EXISTS mydb\n",
    "                WITH REPLICATION = {'class': 'NetworkTopologyStrategy', 'aiven': 3}\n",
    "            \"\"\")"
   ]
  },
  {
   "cell_type": "code",
   "execution_count": 31,
   "metadata": {},
   "outputs": [],
   "source": [
    "sess = session # one mor allias"
   ]
  },
  {
   "cell_type": "code",
   "execution_count": 32,
   "metadata": {},
   "outputs": [
    {
     "data": {
      "text/plain": [
       "<cassandra.cluster.ResultSet at 0x20f641b7208>"
      ]
     },
     "execution_count": 32,
     "metadata": {},
     "output_type": "execute_result"
    }
   ],
   "source": [
    "sess.execute(\"\"\"\n",
    "                    CREATE TABLE IF NOT EXISTS mydb.tasks(\n",
    "                    id int PRIMARY KEY,\n",
    "                    task text,\n",
    "                    created timestamp,\n",
    "                    finished boolean,\n",
    "                    cost float\n",
    "                )\n",
    "\"\"\")"
   ]
  },
  {
   "cell_type": "code",
   "execution_count": 33,
   "metadata": {},
   "outputs": [
    {
     "name": "stdout",
     "output_type": "stream",
     "text": [
      "<cassandra.cluster.ResultSet object at 0x0000020F641B7438>\n"
     ]
    }
   ],
   "source": [
    "r = sess.execute(\"\"\"\n",
    "    INSERT INTO mydb.tasks (id, task) VALUES (101, 'Buy Milk')\n",
    "\"\"\")\n",
    "print(r)"
   ]
  },
  {
   "cell_type": "code",
   "execution_count": 67,
   "metadata": {},
   "outputs": [],
   "source": [
    "id = 10\n",
    "import random"
   ]
  },
  {
   "cell_type": "code",
   "execution_count": 80,
   "metadata": {},
   "outputs": [
    {
     "name": "stdout",
     "output_type": "stream",
     "text": [
      "<cassandra.cluster.ResultSet object at 0x0000020F6405FBE0>\n"
     ]
    }
   ],
   "source": [
    "id += 1\n",
    "cost = 4 + random.random()*2\n",
    "r = sess.execute(f\"\"\"\n",
    "    INSERT INTO mydb.tasks (id, task, created, finished, cost) \n",
    "    VALUES ({id}, 'Buy Dinner', toTimeStamp(now()), False, {cost})\n",
    "\"\"\")\n",
    "print(r)"
   ]
  },
  {
   "cell_type": "code",
   "execution_count": 89,
   "metadata": {},
   "outputs": [
    {
     "name": "stdout",
     "output_type": "stream",
     "text": [
      "[Row(id=10, cost=None, created=datetime.datetime(2020, 3, 7, 10, 0, 27, 78000), finished=None, task='Buy Milk Again'), Row(id=16, cost=5.074661731719971, created=datetime.datetime(2020, 3, 7, 10, 22, 52, 242000), finished=False, task='Buy Milk Again'), Row(id=13, cost=5.310240268707275, created=datetime.datetime(2020, 3, 7, 10, 22, 51, 551000), finished=False, task='Buy Milk Again'), Row(id=11, cost=4.410859107971191, created=datetime.datetime(2020, 3, 7, 10, 22, 49, 771000), finished=False, task='Buy Milk Again'), Row(id=19, cost=4.023677825927734, created=datetime.datetime(2020, 3, 7, 10, 23, 21, 363000), finished=False, task='Buy Dinner'), Row(id=2, cost=None, created=datetime.datetime(2020, 3, 7, 10, 0, 5, 683000), finished=None, task='Buy Milk'), Row(id=18, cost=4.682769298553467, created=datetime.datetime(2020, 3, 7, 10, 23, 20, 916000), finished=False, task='Buy Dinner'), Row(id=15, cost=4.037034034729004, created=datetime.datetime(2020, 3, 7, 10, 22, 52, 81000), finished=False, task='Buy Milk Again'), Row(id=22, cost=4.502995491027832, created=datetime.datetime(2020, 3, 7, 10, 23, 21, 845000), finished=False, task='Buy Dinner'), Row(id=20, cost=5.819021224975586, created=datetime.datetime(2020, 3, 7, 10, 23, 21, 544000), finished=False, task='Buy Dinner'), Row(id=9, cost=None, created=datetime.datetime(2020, 3, 7, 10, 0, 25, 719000), finished=None, task='Buy Milk Again'), Row(id=14, cost=5.477428913116455, created=datetime.datetime(2020, 3, 7, 10, 22, 51, 913000), finished=False, task='Buy Milk Again'), Row(id=21, cost=4.173734188079834, created=datetime.datetime(2020, 3, 7, 10, 23, 21, 710000), finished=False, task='Buy Dinner'), Row(id=17, cost=4.759654998779297, created=datetime.datetime(2020, 3, 7, 10, 23, 20, 232000), finished=False, task='Buy Dinner'), Row(id=101, cost=None, created=None, finished=None, task='Buy Milk'), Row(id=12, cost=5.735809803009033, created=datetime.datetime(2020, 3, 7, 10, 22, 50, 917000), finished=False, task='Buy Milk Again')]\n"
     ]
    }
   ],
   "source": [
    "r = sess.execute(\"\"\"\n",
    "    SELECT * FROM mydb.tasks\n",
    "\"\"\")\n",
    "reslist = list(r)\n",
    "print(reslist)"
   ]
  },
  {
   "cell_type": "code",
   "execution_count": 90,
   "metadata": {},
   "outputs": [
    {
     "data": {
      "text/plain": [
       "[Row(id=19, cost=4.023677825927734, created=datetime.datetime(2020, 3, 7, 10, 23, 21, 363000), finished=False, task='Buy Dinner'),\n",
       " Row(id=18, cost=4.682769298553467, created=datetime.datetime(2020, 3, 7, 10, 23, 20, 916000), finished=False, task='Buy Dinner'),\n",
       " Row(id=22, cost=4.502995491027832, created=datetime.datetime(2020, 3, 7, 10, 23, 21, 845000), finished=False, task='Buy Dinner'),\n",
       " Row(id=20, cost=5.819021224975586, created=datetime.datetime(2020, 3, 7, 10, 23, 21, 544000), finished=False, task='Buy Dinner'),\n",
       " Row(id=21, cost=4.173734188079834, created=datetime.datetime(2020, 3, 7, 10, 23, 21, 710000), finished=False, task='Buy Dinner'),\n",
       " Row(id=17, cost=4.759654998779297, created=datetime.datetime(2020, 3, 7, 10, 23, 20, 232000), finished=False, task='Buy Dinner')]"
      ]
     },
     "execution_count": 90,
     "metadata": {},
     "output_type": "execute_result"
    }
   ],
   "source": [
    "dinnerlist = [row for row in reslist if row.task == 'Buy Dinner']\n",
    "dinnerlist"
   ]
  },
  {
   "cell_type": "code",
   "execution_count": 91,
   "metadata": {},
   "outputs": [
    {
     "data": {
      "text/plain": [
       "[Row(id=19, cost=4.023677825927734, created=datetime.datetime(2020, 3, 7, 10, 23, 21, 363000), finished=False, task='Buy Dinner'),\n",
       " Row(id=18, cost=4.682769298553467, created=datetime.datetime(2020, 3, 7, 10, 23, 20, 916000), finished=False, task='Buy Dinner'),\n",
       " Row(id=22, cost=4.502995491027832, created=datetime.datetime(2020, 3, 7, 10, 23, 21, 845000), finished=False, task='Buy Dinner'),\n",
       " Row(id=21, cost=4.173734188079834, created=datetime.datetime(2020, 3, 7, 10, 23, 21, 710000), finished=False, task='Buy Dinner'),\n",
       " Row(id=17, cost=4.759654998779297, created=datetime.datetime(2020, 3, 7, 10, 23, 20, 232000), finished=False, task='Buy Dinner')]"
      ]
     },
     "execution_count": 91,
     "metadata": {},
     "output_type": "execute_result"
    }
   ],
   "source": [
    "cheapfood = [row for row in dinnerlist if row.cost < 5]\n",
    "cheapfood"
   ]
  },
  {
   "cell_type": "code",
   "execution_count": null,
   "metadata": {},
   "outputs": [],
   "source": [
    "id += 1\n",
    "r = sess.execute(f\"\"\"\n",
    "    INSERT INTO mydb.tasks (id, task, created) \n",
    "    VALUES ({id}, 'Get Dinner', toTimeStamp(now()))\n",
    "\"\"\")\n",
    "print(r)"
   ]
  },
  {
   "cell_type": "code",
   "execution_count": 74,
   "metadata": {},
   "outputs": [
    {
     "data": {
      "text/plain": [
       "10"
      ]
     },
     "execution_count": 74,
     "metadata": {},
     "output_type": "execute_result"
    }
   ],
   "source": [
    "r = sess.execute(\"\"\"\n",
    "    SELECT * FROM mydb.tasks\n",
    "\"\"\")\n",
    "results = list(r)\n",
    "len(results)"
   ]
  },
  {
   "cell_type": "code",
   "execution_count": 65,
   "metadata": {},
   "outputs": [
    {
     "data": {
      "text/plain": [
       "1"
      ]
     },
     "execution_count": 65,
     "metadata": {},
     "output_type": "execute_result"
    }
   ],
   "source": [
    "r = sess.execute(\"\"\"\n",
    "    SELECT * FROM mydb.tasks\n",
    "    WHERE id = 101\n",
    "\"\"\")\n",
    "results = list(r)\n",
    "len(results)"
   ]
  },
  {
   "cell_type": "code",
   "execution_count": 66,
   "metadata": {},
   "outputs": [
    {
     "name": "stdout",
     "output_type": "stream",
     "text": [
      "[Row(id=101, cost=None, created=None, finished=None, task='Buy Milk')]\n"
     ]
    }
   ],
   "source": [
    "print(results)"
   ]
  },
  {
   "cell_type": "code",
   "execution_count": 49,
   "metadata": {},
   "outputs": [
    {
     "data": {
      "text/plain": [
       "Row(id=10, cost=None, created=datetime.datetime(2020, 3, 7, 10, 0, 27, 78000), finished=None, task='Buy Milk Again')"
      ]
     },
     "execution_count": 49,
     "metadata": {},
     "output_type": "execute_result"
    }
   ],
   "source": [
    "row = results[0]\n",
    "row"
   ]
  },
  {
   "cell_type": "code",
   "execution_count": 50,
   "metadata": {},
   "outputs": [
    {
     "data": {
      "text/plain": [
       "cassandra.io.asyncorereactor.Row"
      ]
     },
     "execution_count": 50,
     "metadata": {},
     "output_type": "execute_result"
    }
   ],
   "source": [
    "type(row)"
   ]
  },
  {
   "cell_type": "code",
   "execution_count": 53,
   "metadata": {},
   "outputs": [
    {
     "data": {
      "text/plain": [
       "['__add__',\n",
       " '__class__',\n",
       " '__contains__',\n",
       " '__delattr__',\n",
       " '__dir__',\n",
       " '__doc__',\n",
       " '__eq__',\n",
       " '__format__',\n",
       " '__ge__',\n",
       " '__getattribute__',\n",
       " '__getitem__',\n",
       " '__getnewargs__',\n",
       " '__gt__',\n",
       " '__hash__',\n",
       " '__init__',\n",
       " '__init_subclass__',\n",
       " '__iter__',\n",
       " '__le__',\n",
       " '__len__',\n",
       " '__lt__',\n",
       " '__module__',\n",
       " '__mul__',\n",
       " '__ne__',\n",
       " '__new__',\n",
       " '__reduce__',\n",
       " '__reduce_ex__',\n",
       " '__repr__',\n",
       " '__rmul__',\n",
       " '__setattr__',\n",
       " '__sizeof__',\n",
       " '__slots__',\n",
       " '__str__',\n",
       " '__subclasshook__',\n",
       " '_asdict',\n",
       " '_fields',\n",
       " '_fields_defaults',\n",
       " '_make',\n",
       " '_replace',\n",
       " 'cost',\n",
       " 'count',\n",
       " 'created',\n",
       " 'finished',\n",
       " 'id',\n",
       " 'index',\n",
       " 'task']"
      ]
     },
     "execution_count": 53,
     "metadata": {},
     "output_type": "execute_result"
    }
   ],
   "source": [
    "dir(row)"
   ]
  },
  {
   "cell_type": "code",
   "execution_count": 55,
   "metadata": {},
   "outputs": [
    {
     "name": "stdout",
     "output_type": "stream",
     "text": [
      "10\n",
      "None\n",
      "2020-03-07 10:00:27.078000\n",
      "None\n",
      "Buy Milk Again\n"
     ]
    }
   ],
   "source": [
    "for value in row:\n",
    "    print(value)"
   ]
  },
  {
   "cell_type": "code",
   "execution_count": 59,
   "metadata": {},
   "outputs": [
    {
     "data": {
      "text/plain": [
       "('id', 'cost', 'created', 'finished', 'task')"
      ]
     },
     "execution_count": 59,
     "metadata": {},
     "output_type": "execute_result"
    }
   ],
   "source": [
    "row._fields"
   ]
  },
  {
   "cell_type": "code",
   "execution_count": 61,
   "metadata": {},
   "outputs": [
    {
     "data": {
      "text/plain": [
       "OrderedDict([('id', 10),\n",
       "             ('cost', None),\n",
       "             ('created', datetime.datetime(2020, 3, 7, 10, 0, 27, 78000)),\n",
       "             ('finished', None),\n",
       "             ('task', 'Buy Milk Again')])"
      ]
     },
     "execution_count": 61,
     "metadata": {},
     "output_type": "execute_result"
    }
   ],
   "source": [
    "row._asdict()"
   ]
  },
  {
   "cell_type": "code",
   "execution_count": 62,
   "metadata": {},
   "outputs": [
    {
     "name": "stdout",
     "output_type": "stream",
     "text": [
      "Column id - Value 10\n",
      "Column cost - Value None\n",
      "Column created - Value 2020-03-07 10:00:27.078000\n",
      "Column finished - Value None\n",
      "Column task - Value Buy Milk Again\n"
     ]
    }
   ],
   "source": [
    "for key,value in row._asdict().items():\n",
    "    print(f\"Column {key} - Value {value}\")"
   ]
  },
  {
   "cell_type": "code",
   "execution_count": 64,
   "metadata": {},
   "outputs": [
    {
     "name": "stderr",
     "output_type": "stream",
     "text": [
      "C:\\ProgramData\\Anaconda3\\lib\\site-packages\\ipykernel_launcher.py:5: DeprecationWarning: Legacy execution parameters will be removed in 4.0. Consider using execution profiles.\n",
      "  \"\"\"\n",
      "C:\\ProgramData\\Anaconda3\\lib\\site-packages\\ipykernel_launcher.py:5: DeprecationWarning: Using ssl_options without ssl_context is deprecated and will result in an error in the next major release. Please use ssl_context to prepare for that release.\n",
      "  \"\"\"\n",
      "WARNING:cassandra.cluster:Downgrading core protocol version from 66 to 65 for 35.228.82.138:23114. To avoid this, it is best practice to explicitly set Cluster(protocol_version) to the version supported by your cluster. http://datastax.github.io/python-driver/api/cassandra/cluster.html#cassandra.cluster.Cluster.protocol_version\n",
      "WARNING:cassandra.cluster:Downgrading core protocol version from 65 to 4 for 35.228.82.138:23114. To avoid this, it is best practice to explicitly set Cluster(protocol_version) to the version supported by your cluster. http://datastax.github.io/python-driver/api/cassandra/cluster.html#cassandra.cluster.Cluster.protocol_version\n"
     ]
    },
    {
     "name": "stdout",
     "output_type": "stream",
     "text": [
      "Row: id = 5\n",
      "Column id - Value 5\n",
      "Column message - Value Hello from Python!\n",
      "Row: id = 1\n",
      "Column id - Value 1\n",
      "Column message - Value Hello from Python!\n",
      "Row: id = 8\n",
      "Column id - Value 8\n",
      "Column message - Value Hello from Python!\n",
      "Row: id = 0\n",
      "Column id - Value 0\n",
      "Column message - Value Hello from Python!\n",
      "Row: id = 2\n",
      "Column id - Value 2\n",
      "Column message - Value Hello from Python!\n",
      "Row: id = 4\n",
      "Column id - Value 4\n",
      "Column message - Value Hello from Python!\n",
      "Row: id = 15\n",
      "Column id - Value 15\n",
      "Column message - Value Valdis\n",
      "Row: id = 7\n",
      "Column id - Value 7\n",
      "Column message - Value Hello from Python!\n",
      "Row: id = 6\n",
      "Column id - Value 6\n",
      "Column message - Value Hello from Python!\n",
      "Row: id = 9\n",
      "Column id - Value 9\n",
      "Column message - Value Hello from Python!\n",
      "Row: id = 3\n",
      "Column id - Value 3\n",
      "Column message - Value Hello from Python!\n"
     ]
    }
   ],
   "source": [
    "# qry = \"SELECT id, message FROM example_keyspace.example_python\"\n",
    "qry = \"INSERT INTO example_keyspace.example_python (id, message) VALUES (15, 'Valdis')\"\n",
    "qry = \"SELECT id, message FROM example_keyspace.example_python\"\n",
    "cassandra_qry(args, qry)"
   ]
  },
  {
   "cell_type": "code",
   "execution_count": 6,
   "metadata": {},
   "outputs": [],
   "source": [
    "args = Config()"
   ]
  },
  {
   "cell_type": "code",
   "execution_count": 7,
   "metadata": {},
   "outputs": [
    {
     "data": {
      "text/plain": [
       "'ca.pem'"
      ]
     },
     "execution_count": 7,
     "metadata": {},
     "output_type": "execute_result"
    }
   ],
   "source": [
    "args.ca_path"
   ]
  },
  {
   "cell_type": "code",
   "execution_count": 8,
   "metadata": {},
   "outputs": [
    {
     "data": {
      "text/plain": [
       "'avnadmin'"
      ]
     },
     "execution_count": 8,
     "metadata": {},
     "output_type": "execute_result"
    }
   ],
   "source": [
    "args.username"
   ]
  },
  {
   "cell_type": "code",
   "execution_count": 9,
   "metadata": {},
   "outputs": [
    {
     "name": "stderr",
     "output_type": "stream",
     "text": [
      "C:\\ProgramData\\Anaconda3\\lib\\site-packages\\ipykernel_launcher.py:14: DeprecationWarning: Legacy execution parameters will be removed in 4.0. Consider using execution profiles.\n",
      "  \n",
      "C:\\ProgramData\\Anaconda3\\lib\\site-packages\\ipykernel_launcher.py:14: DeprecationWarning: Using ssl_options without ssl_context is deprecated and will result in an error in the next major release. Please use ssl_context to prepare for that release.\n",
      "  \n"
     ]
    },
    {
     "name": "stdout",
     "output_type": "stream",
     "text": [
      "Row: id = 5, message = Hello from Python!\n",
      "Row: id = 1, message = Hello from Python!\n",
      "Row: id = 8, message = Hello from Python!\n",
      "Row: id = 0, message = Hello from Python!\n",
      "Row: id = 2, message = Hello from Python!\n",
      "Row: id = 4, message = Hello from Python!\n",
      "Row: id = 7, message = Hello from Python!\n",
      "Row: id = 6, message = Hello from Python!\n",
      "Row: id = 9, message = Hello from Python!\n",
      "Row: id = 3, message = Hello from Python!\n"
     ]
    }
   ],
   "source": [
    "cassandra_example(args)"
   ]
  }
 ],
 "metadata": {
  "kernelspec": {
   "display_name": "Python 3",
   "language": "python",
   "name": "python3"
  },
  "language_info": {
   "codemirror_mode": {
    "name": "ipython",
    "version": 3
   },
   "file_extension": ".py",
   "mimetype": "text/x-python",
   "name": "python",
   "nbconvert_exporter": "python",
   "pygments_lexer": "ipython3",
   "version": "3.7.3"
  }
 },
 "nbformat": 4,
 "nbformat_minor": 2
}
