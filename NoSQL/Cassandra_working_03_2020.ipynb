{
 "cells": [
  {
   "cell_type": "markdown",
   "metadata": {},
   "source": [
    "* http://cassandra.apache.org/doc/latest/getting_started/\n"
   ]
  },
  {
   "cell_type": "code",
   "execution_count": null,
   "metadata": {},
   "outputs": [],
   "source": []
  },
  {
   "cell_type": "markdown",
   "metadata": {},
   "source": [
    "* https://help.aiven.io/en/articles/1803299-getting-started-with-aiven-for-cassandra"
   ]
  },
  {
   "cell_type": "code",
   "execution_count": null,
   "metadata": {},
   "outputs": [],
   "source": [
    "# https://github.com/datastax/python-driver"
   ]
  },
  {
   "cell_type": "code",
   "execution_count": 1,
   "metadata": {},
   "outputs": [
    {
     "name": "stdout",
     "output_type": "stream",
     "text": [
      "Requirement already satisfied: cassandra-driver in c:\\programdata\\anaconda3\\lib\\site-packages (3.22.0)\n",
      "Requirement already satisfied: six>=1.9 in c:\\programdata\\anaconda3\\lib\\site-packages (from cassandra-driver) (1.12.0)\n",
      "Requirement already satisfied: geomet<0.2,>=0.1 in c:\\programdata\\anaconda3\\lib\\site-packages (from cassandra-driver) (0.1.2)\n",
      "Requirement already satisfied: click in c:\\programdata\\anaconda3\\lib\\site-packages (from geomet<0.2,>=0.1->cassandra-driver) (7.0)\n"
     ]
    }
   ],
   "source": [
    "!pip install cassandra-driver"
   ]
  },
  {
   "cell_type": "code",
   "execution_count": null,
   "metadata": {},
   "outputs": [],
   "source": [
    "!pip install --user cassandra-driver"
   ]
  },
  {
   "cell_type": "code",
   "execution_count": 2,
   "metadata": {},
   "outputs": [],
   "source": [
    "from cassandra.cluster import Cluster"
   ]
  },
  {
   "cell_type": "code",
   "execution_count": null,
   "metadata": {},
   "outputs": [],
   "source": [
    "cluster = Cluster()"
   ]
  },
  {
   "cell_type": "code",
   "execution_count": 4,
   "metadata": {},
   "outputs": [],
   "source": [
    "class Config:\n",
    "    ca_path='ca.pem'\n",
    "    host='cassandra-3630668e-valdis-c169.aivencloud.com'\n",
    "    password='realpwneeded'\n",
    "    port=23114\n",
    "    username='avnadmin'\n",
    "    "
   ]
  },
  {
   "cell_type": "code",
   "execution_count": 3,
   "metadata": {},
   "outputs": [],
   "source": [
    "# Copyright (c) 2018 Aiven, Helsinki, Finland. https://aiven.io/\n",
    "\n",
    "import ssl\n",
    "\n",
    "from cassandra.auth import PlainTextAuthProvider\n",
    "from cassandra.cluster import Cluster\n",
    "from cassandra.policies import DCAwareRoundRobinPolicy\n",
    "\n",
    "\n",
    "def cassandra_example(args):\n",
    "    auth_provider = PlainTextAuthProvider(args.username, args.password)\n",
    "    ssl_options = {\"ca_certs\": args.ca_path, \"cert_reqs\": ssl.CERT_REQUIRED}\n",
    "    with Cluster([args.host], port=args.port, ssl_options=ssl_options, auth_provider=auth_provider,\n",
    "                 load_balancing_policy=DCAwareRoundRobinPolicy(local_dc='aiven')) as cluster:\n",
    "        with cluster.connect() as session:\n",
    "            # Create a keyspace\n",
    "            session.execute(\"\"\"\n",
    "                CREATE KEYSPACE IF NOT EXISTS example_keyspace\n",
    "                WITH REPLICATION = {'class': 'NetworkTopologyStrategy', 'aiven': 3}\n",
    "            \"\"\")\n",
    "\n",
    "            # Create a table\n",
    "            session.execute(\"\"\"\n",
    "                CREATE TABLE IF NOT EXISTS example_keyspace.example_python (\n",
    "                    id int PRIMARY KEY,\n",
    "                    message text\n",
    "                )\n",
    "            \"\"\")\n",
    "\n",
    "            # Insert some data\n",
    "            for i in range(10):\n",
    "                session.execute(\"\"\"\n",
    "                    INSERT INTO example_keyspace.example_python (id, message)\n",
    "                    VALUES (%s, %s)\n",
    "                \"\"\", (i, \"Hello from Python!\"))\n",
    "\n",
    "            # Read it back\n",
    "            for row in session.execute(\"SELECT id, message FROM example_keyspace.example_python\"):\n",
    "                print(\"Row: id = {}, message = {}\".format(row.id, row.message))"
   ]
  },
  {
   "cell_type": "code",
   "execution_count": 63,
   "metadata": {},
   "outputs": [],
   "source": [
    "def cassandra_qry(args, qry):\n",
    "    auth_provider = PlainTextAuthProvider(args.username, args.password)\n",
    "    ssl_options = {\"ca_certs\": args.ca_path, \"cert_reqs\": ssl.CERT_REQUIRED}\n",
    "    with Cluster([args.host], port=args.port, ssl_options=ssl_options, auth_provider=auth_provider,\n",
    "                 load_balancing_policy=DCAwareRoundRobinPolicy(local_dc='aiven')) as cluster:\n",
    "        with cluster.connect() as session:\n",
    "            for row in session.execute(qry):\n",
    "                print(f\"Row: id = {row.id}\")\n",
    "                for key,value in row._asdict().items():\n",
    "                    print(f\"Column {key} - Value {value}\")\n"
   ]
  },
  {
   "cell_type": "code",
   "execution_count": 27,
   "metadata": {
    "scrolled": true
   },
   "outputs": [
    {
     "name": "stderr",
     "output_type": "stream",
     "text": [
      "C:\\ProgramData\\Anaconda3\\lib\\site-packages\\ipykernel_launcher.py:4: DeprecationWarning: Legacy execution parameters will be removed in 4.0. Consider using execution profiles.\n",
      "  after removing the cwd from sys.path.\n",
      "C:\\ProgramData\\Anaconda3\\lib\\site-packages\\ipykernel_launcher.py:4: DeprecationWarning: Using ssl_options without ssl_context is deprecated and will result in an error in the next major release. Please use ssl_context to prepare for that release.\n",
      "  after removing the cwd from sys.path.\n"
     ]
    }
   ],
   "source": [
    "auth_provider = PlainTextAuthProvider(args.username, args.password)\n",
    "ssl_options = {\"ca_certs\": args.ca_path, \"cert_reqs\": ssl.CERT_REQUIRED}\n",
    "cluster = Cluster([args.host], port=args.port, ssl_options=ssl_options, auth_provider=auth_provider,\\\n",
    "                  load_balancing_policy=DCAwareRoundRobinPolicy(local_dc='aiven'))"
   ]
  },
  {
   "cell_type": "code",
   "execution_count": 28,
   "metadata": {},
   "outputs": [],
   "source": [
    "session = cluster.connect()"
   ]
  },
  {
   "cell_type": "code",
   "execution_count": 30,
   "metadata": {},
   "outputs": [
    {
     "data": {
      "text/plain": [
       "<cassandra.cluster.ResultSet at 0x20f6437a5c0>"
      ]
     },
     "execution_count": 30,
     "metadata": {},
     "output_type": "execute_result"
    }
   ],
   "source": [
    "session.execute(\"\"\"\n",
    "                CREATE KEYSPACE IF NOT EXISTS mydb\n",
    "                WITH REPLICATION = {'class': 'NetworkTopologyStrategy', 'aiven': 3}\n",
    "            \"\"\")"
   ]
  },
  {
   "cell_type": "code",
   "execution_count": 31,
   "metadata": {},
   "outputs": [],
   "source": [
    "sess = session # one mor allias"
   ]
  },
  {
   "cell_type": "code",
   "execution_count": 32,
   "metadata": {},
   "outputs": [
    {
     "data": {
      "text/plain": [
       "<cassandra.cluster.ResultSet at 0x20f641b7208>"
      ]
     },
     "execution_count": 32,
     "metadata": {},
     "output_type": "execute_result"
    }
   ],
   "source": [
    "sess.execute(\"\"\"\n",
    "                    CREATE TABLE IF NOT EXISTS mydb.tasks(\n",
    "                    id int PRIMARY KEY,\n",
    "                    task text,\n",
    "                    created timestamp,\n",
    "                    finished boolean,\n",
    "                    cost float\n",
    "                )\n",
    "\"\"\")"
   ]
  },
  {
   "cell_type": "code",
   "execution_count": 33,
   "metadata": {},
   "outputs": [
    {
     "name": "stdout",
     "output_type": "stream",
     "text": [
      "<cassandra.cluster.ResultSet object at 0x0000020F641B7438>\n"
     ]
    }
   ],
   "source": [
    "r = sess.execute(\"\"\"\n",
    "    INSERT INTO mydb.tasks (id, task) VALUES (101, 'Buy Milk')\n",
    "\"\"\")\n",
    "print(r)"
   ]
  },
  {
   "cell_type": "code",
   "execution_count": 67,
   "metadata": {},
   "outputs": [],
   "source": [
    "id = 10\n",
    "import random"
   ]
  },
  {
   "cell_type": "code",
   "execution_count": 80,
   "metadata": {},
   "outputs": [
    {
     "name": "stdout",
     "output_type": "stream",
     "text": [
      "<cassandra.cluster.ResultSet object at 0x0000020F6405FBE0>\n"
     ]
    }
   ],
   "source": [
    "id += 1\n",
    "cost = 4 + random.random()*2\n",
    "r = sess.execute(f\"\"\"\n",
    "    INSERT INTO mydb.tasks (id, task, created, finished, cost) \n",
    "    VALUES ({id}, 'Buy Dinner', toTimeStamp(now()), False, {cost})\n",
    "\"\"\")\n",
    "print(r)"
   ]
  },
  {
   "cell_type": "code",
   "execution_count": 92,
   "metadata": {},
   "outputs": [
    {
     "name": "stdout",
     "output_type": "stream",
     "text": [
      "16\n"
     ]
    }
   ],
   "source": [
    "r = sess.execute(\"\"\"\n",
    "    SELECT * FROM mydb.tasks\n",
    "\"\"\")\n",
    "reslist = list(r)\n",
    "print(len(reslist))"
   ]
  },
  {
   "cell_type": "code",
   "execution_count": null,
   "metadata": {},
   "outputs": [],
   "source": []
  },
  {
   "cell_type": "code",
   "execution_count": 90,
   "metadata": {},
   "outputs": [
    {
     "data": {
      "text/plain": [
       "[Row(id=19, cost=4.023677825927734, created=datetime.datetime(2020, 3, 7, 10, 23, 21, 363000), finished=False, task='Buy Dinner'),\n",
       " Row(id=18, cost=4.682769298553467, created=datetime.datetime(2020, 3, 7, 10, 23, 20, 916000), finished=False, task='Buy Dinner'),\n",
       " Row(id=22, cost=4.502995491027832, created=datetime.datetime(2020, 3, 7, 10, 23, 21, 845000), finished=False, task='Buy Dinner'),\n",
       " Row(id=20, cost=5.819021224975586, created=datetime.datetime(2020, 3, 7, 10, 23, 21, 544000), finished=False, task='Buy Dinner'),\n",
       " Row(id=21, cost=4.173734188079834, created=datetime.datetime(2020, 3, 7, 10, 23, 21, 710000), finished=False, task='Buy Dinner'),\n",
       " Row(id=17, cost=4.759654998779297, created=datetime.datetime(2020, 3, 7, 10, 23, 20, 232000), finished=False, task='Buy Dinner')]"
      ]
     },
     "execution_count": 90,
     "metadata": {},
     "output_type": "execute_result"
    }
   ],
   "source": [
    "dinnerlist = [row for row in reslist if row.task == 'Buy Dinner']\n",
    "dinnerlist"
   ]
  },
  {
   "cell_type": "code",
   "execution_count": 91,
   "metadata": {},
   "outputs": [
    {
     "data": {
      "text/plain": [
       "[Row(id=19, cost=4.023677825927734, created=datetime.datetime(2020, 3, 7, 10, 23, 21, 363000), finished=False, task='Buy Dinner'),\n",
       " Row(id=18, cost=4.682769298553467, created=datetime.datetime(2020, 3, 7, 10, 23, 20, 916000), finished=False, task='Buy Dinner'),\n",
       " Row(id=22, cost=4.502995491027832, created=datetime.datetime(2020, 3, 7, 10, 23, 21, 845000), finished=False, task='Buy Dinner'),\n",
       " Row(id=21, cost=4.173734188079834, created=datetime.datetime(2020, 3, 7, 10, 23, 21, 710000), finished=False, task='Buy Dinner'),\n",
       " Row(id=17, cost=4.759654998779297, created=datetime.datetime(2020, 3, 7, 10, 23, 20, 232000), finished=False, task='Buy Dinner')]"
      ]
     },
     "execution_count": 91,
     "metadata": {},
     "output_type": "execute_result"
    }
   ],
   "source": [
    "cheapfood = [row for row in dinnerlist if row.cost < 5]\n",
    "cheapfood"
   ]
  },
  {
   "cell_type": "code",
   "execution_count": null,
   "metadata": {},
   "outputs": [],
   "source": [
    "id += 1\n",
    "r = sess.execute(f\"\"\"\n",
    "    INSERT INTO mydb.tasks (id, task, created) \n",
    "    VALUES ({id}, 'Get Dinner', toTimeStamp(now()))\n",
    "\"\"\")\n",
    "print(r)"
   ]
  },
  {
   "cell_type": "code",
   "execution_count": 74,
   "metadata": {},
   "outputs": [
    {
     "data": {
      "text/plain": [
       "10"
      ]
     },
     "execution_count": 74,
     "metadata": {},
     "output_type": "execute_result"
    }
   ],
   "source": [
    "r = sess.execute(\"\"\"\n",
    "    SELECT * FROM mydb.tasks\n",
    "\"\"\")\n",
    "results = list(r)\n",
    "len(results)"
   ]
  },
  {
   "cell_type": "code",
   "execution_count": 65,
   "metadata": {},
   "outputs": [
    {
     "data": {
      "text/plain": [
       "1"
      ]
     },
     "execution_count": 65,
     "metadata": {},
     "output_type": "execute_result"
    }
   ],
   "source": [
    "r = sess.execute(\"\"\"\n",
    "    SELECT * FROM mydb.tasks\n",
    "    WHERE id = 101\n",
    "\"\"\")\n",
    "results = list(r)\n",
    "len(results)"
   ]
  },
  {
   "cell_type": "code",
   "execution_count": 66,
   "metadata": {},
   "outputs": [
    {
     "name": "stdout",
     "output_type": "stream",
     "text": [
      "[Row(id=101, cost=None, created=None, finished=None, task='Buy Milk')]\n"
     ]
    }
   ],
   "source": [
    "print(results)"
   ]
  },
  {
   "cell_type": "code",
   "execution_count": 49,
   "metadata": {},
   "outputs": [
    {
     "data": {
      "text/plain": [
       "Row(id=10, cost=None, created=datetime.datetime(2020, 3, 7, 10, 0, 27, 78000), finished=None, task='Buy Milk Again')"
      ]
     },
     "execution_count": 49,
     "metadata": {},
     "output_type": "execute_result"
    }
   ],
   "source": [
    "row = results[0]\n",
    "row"
   ]
  },
  {
   "cell_type": "code",
   "execution_count": 50,
   "metadata": {},
   "outputs": [
    {
     "data": {
      "text/plain": [
       "cassandra.io.asyncorereactor.Row"
      ]
     },
     "execution_count": 50,
     "metadata": {},
     "output_type": "execute_result"
    }
   ],
   "source": [
    "type(row)"
   ]
  },
  {
   "cell_type": "code",
   "execution_count": 53,
   "metadata": {},
   "outputs": [
    {
     "data": {
      "text/plain": [
       "['__add__',\n",
       " '__class__',\n",
       " '__contains__',\n",
       " '__delattr__',\n",
       " '__dir__',\n",
       " '__doc__',\n",
       " '__eq__',\n",
       " '__format__',\n",
       " '__ge__',\n",
       " '__getattribute__',\n",
       " '__getitem__',\n",
       " '__getnewargs__',\n",
       " '__gt__',\n",
       " '__hash__',\n",
       " '__init__',\n",
       " '__init_subclass__',\n",
       " '__iter__',\n",
       " '__le__',\n",
       " '__len__',\n",
       " '__lt__',\n",
       " '__module__',\n",
       " '__mul__',\n",
       " '__ne__',\n",
       " '__new__',\n",
       " '__reduce__',\n",
       " '__reduce_ex__',\n",
       " '__repr__',\n",
       " '__rmul__',\n",
       " '__setattr__',\n",
       " '__sizeof__',\n",
       " '__slots__',\n",
       " '__str__',\n",
       " '__subclasshook__',\n",
       " '_asdict',\n",
       " '_fields',\n",
       " '_fields_defaults',\n",
       " '_make',\n",
       " '_replace',\n",
       " 'cost',\n",
       " 'count',\n",
       " 'created',\n",
       " 'finished',\n",
       " 'id',\n",
       " 'index',\n",
       " 'task']"
      ]
     },
     "execution_count": 53,
     "metadata": {},
     "output_type": "execute_result"
    }
   ],
   "source": [
    "dir(row)"
   ]
  },
  {
   "cell_type": "code",
   "execution_count": 55,
   "metadata": {},
   "outputs": [
    {
     "name": "stdout",
     "output_type": "stream",
     "text": [
      "10\n",
      "None\n",
      "2020-03-07 10:00:27.078000\n",
      "None\n",
      "Buy Milk Again\n"
     ]
    }
   ],
   "source": [
    "for value in row:\n",
    "    print(value)"
   ]
  },
  {
   "cell_type": "code",
   "execution_count": 59,
   "metadata": {},
   "outputs": [
    {
     "data": {
      "text/plain": [
       "('id', 'cost', 'created', 'finished', 'task')"
      ]
     },
     "execution_count": 59,
     "metadata": {},
     "output_type": "execute_result"
    }
   ],
   "source": [
    "row._fields"
   ]
  },
  {
   "cell_type": "code",
   "execution_count": 61,
   "metadata": {},
   "outputs": [
    {
     "data": {
      "text/plain": [
       "OrderedDict([('id', 10),\n",
       "             ('cost', None),\n",
       "             ('created', datetime.datetime(2020, 3, 7, 10, 0, 27, 78000)),\n",
       "             ('finished', None),\n",
       "             ('task', 'Buy Milk Again')])"
      ]
     },
     "execution_count": 61,
     "metadata": {},
     "output_type": "execute_result"
    }
   ],
   "source": [
    "row._asdict()"
   ]
  },
  {
   "cell_type": "code",
   "execution_count": 62,
   "metadata": {},
   "outputs": [
    {
     "name": "stdout",
     "output_type": "stream",
     "text": [
      "Column id - Value 10\n",
      "Column cost - Value None\n",
      "Column created - Value 2020-03-07 10:00:27.078000\n",
      "Column finished - Value None\n",
      "Column task - Value Buy Milk Again\n"
     ]
    }
   ],
   "source": [
    "for key,value in row._asdict().items():\n",
    "    print(f\"Column {key} - Value {value}\")"
   ]
  },
  {
   "cell_type": "code",
   "execution_count": 64,
   "metadata": {},
   "outputs": [
    {
     "name": "stderr",
     "output_type": "stream",
     "text": [
      "C:\\ProgramData\\Anaconda3\\lib\\site-packages\\ipykernel_launcher.py:5: DeprecationWarning: Legacy execution parameters will be removed in 4.0. Consider using execution profiles.\n",
      "  \"\"\"\n",
      "C:\\ProgramData\\Anaconda3\\lib\\site-packages\\ipykernel_launcher.py:5: DeprecationWarning: Using ssl_options without ssl_context is deprecated and will result in an error in the next major release. Please use ssl_context to prepare for that release.\n",
      "  \"\"\"\n",
      "WARNING:cassandra.cluster:Downgrading core protocol version from 66 to 65 for 35.228.82.138:23114. To avoid this, it is best practice to explicitly set Cluster(protocol_version) to the version supported by your cluster. http://datastax.github.io/python-driver/api/cassandra/cluster.html#cassandra.cluster.Cluster.protocol_version\n",
      "WARNING:cassandra.cluster:Downgrading core protocol version from 65 to 4 for 35.228.82.138:23114. To avoid this, it is best practice to explicitly set Cluster(protocol_version) to the version supported by your cluster. http://datastax.github.io/python-driver/api/cassandra/cluster.html#cassandra.cluster.Cluster.protocol_version\n"
     ]
    },
    {
     "name": "stdout",
     "output_type": "stream",
     "text": [
      "Row: id = 5\n",
      "Column id - Value 5\n",
      "Column message - Value Hello from Python!\n",
      "Row: id = 1\n",
      "Column id - Value 1\n",
      "Column message - Value Hello from Python!\n",
      "Row: id = 8\n",
      "Column id - Value 8\n",
      "Column message - Value Hello from Python!\n",
      "Row: id = 0\n",
      "Column id - Value 0\n",
      "Column message - Value Hello from Python!\n",
      "Row: id = 2\n",
      "Column id - Value 2\n",
      "Column message - Value Hello from Python!\n",
      "Row: id = 4\n",
      "Column id - Value 4\n",
      "Column message - Value Hello from Python!\n",
      "Row: id = 15\n",
      "Column id - Value 15\n",
      "Column message - Value Valdis\n",
      "Row: id = 7\n",
      "Column id - Value 7\n",
      "Column message - Value Hello from Python!\n",
      "Row: id = 6\n",
      "Column id - Value 6\n",
      "Column message - Value Hello from Python!\n",
      "Row: id = 9\n",
      "Column id - Value 9\n",
      "Column message - Value Hello from Python!\n",
      "Row: id = 3\n",
      "Column id - Value 3\n",
      "Column message - Value Hello from Python!\n"
     ]
    }
   ],
   "source": [
    "# qry = \"SELECT id, message FROM example_keyspace.example_python\"\n",
    "qry = \"INSERT INTO example_keyspace.example_python (id, message) VALUES (15, 'Valdis')\"\n",
    "qry = \"SELECT id, message FROM example_keyspace.example_python\"\n",
    "cassandra_qry(args, qry)"
   ]
  },
  {
   "cell_type": "code",
   "execution_count": 6,
   "metadata": {},
   "outputs": [],
   "source": [
    "args = Config()"
   ]
  },
  {
   "cell_type": "code",
   "execution_count": 7,
   "metadata": {},
   "outputs": [
    {
     "data": {
      "text/plain": [
       "'ca.pem'"
      ]
     },
     "execution_count": 7,
     "metadata": {},
     "output_type": "execute_result"
    }
   ],
   "source": [
    "args.ca_path"
   ]
  },
  {
   "cell_type": "code",
   "execution_count": 8,
   "metadata": {},
   "outputs": [
    {
     "data": {
      "text/plain": [
       "'avnadmin'"
      ]
     },
     "execution_count": 8,
     "metadata": {},
     "output_type": "execute_result"
    }
   ],
   "source": [
    "args.username"
   ]
  },
  {
   "cell_type": "code",
   "execution_count": 9,
   "metadata": {},
   "outputs": [
    {
     "name": "stderr",
     "output_type": "stream",
     "text": [
      "C:\\ProgramData\\Anaconda3\\lib\\site-packages\\ipykernel_launcher.py:14: DeprecationWarning: Legacy execution parameters will be removed in 4.0. Consider using execution profiles.\n",
      "  \n",
      "C:\\ProgramData\\Anaconda3\\lib\\site-packages\\ipykernel_launcher.py:14: DeprecationWarning: Using ssl_options without ssl_context is deprecated and will result in an error in the next major release. Please use ssl_context to prepare for that release.\n",
      "  \n"
     ]
    },
    {
     "name": "stdout",
     "output_type": "stream",
     "text": [
      "Row: id = 5, message = Hello from Python!\n",
      "Row: id = 1, message = Hello from Python!\n",
      "Row: id = 8, message = Hello from Python!\n",
      "Row: id = 0, message = Hello from Python!\n",
      "Row: id = 2, message = Hello from Python!\n",
      "Row: id = 4, message = Hello from Python!\n",
      "Row: id = 7, message = Hello from Python!\n",
      "Row: id = 6, message = Hello from Python!\n",
      "Row: id = 9, message = Hello from Python!\n",
      "Row: id = 3, message = Hello from Python!\n"
     ]
    }
   ],
   "source": [
    "cassandra_example(args)"
   ]
  },
  {
   "cell_type": "code",
   "execution_count": null,
   "metadata": {},
   "outputs": [],
   "source": [
    "# Create new table mydb.users in your Cassandra DB\n",
    "# EXTRACT - Read ALL data from JSON API at Mockaroo (could use my at https://my.api.mockaroo.com/mar07.json?key=58227cb0)\n",
    "# TRANSFORM \n",
    "# LOAD Insert ALL data into mydb.users\n",
    "## For extra challenge add timestamp into users table\n",
    "# SELECT ALL from users\n",
    "# filter all users from Italy (with .it)"
   ]
  },
  {
   "cell_type": "code",
   "execution_count": 93,
   "metadata": {},
   "outputs": [],
   "source": [
    "import requests"
   ]
  },
  {
   "cell_type": "code",
   "execution_count": 95,
   "metadata": {},
   "outputs": [],
   "source": [
    "url = \"https://my.api.mockaroo.com/mar07.json?key=58227cb0\""
   ]
  },
  {
   "cell_type": "code",
   "execution_count": 96,
   "metadata": {},
   "outputs": [
    {
     "data": {
      "text/plain": [
       "200"
      ]
     },
     "execution_count": 96,
     "metadata": {},
     "output_type": "execute_result"
    }
   ],
   "source": [
    "req = requests.get(url)\n",
    "req.status_code"
   ]
  },
  {
   "cell_type": "code",
   "execution_count": 97,
   "metadata": {},
   "outputs": [
    {
     "data": {
      "text/plain": [
       "100"
      ]
     },
     "execution_count": 97,
     "metadata": {},
     "output_type": "execute_result"
    }
   ],
   "source": [
    "data = req.json() #requests has json decoding built in\n",
    "len(data)"
   ]
  },
  {
   "cell_type": "code",
   "execution_count": 98,
   "metadata": {},
   "outputs": [
    {
     "data": {
      "text/plain": [
       "[{'id': 1,\n",
       "  'first_name': 'Byrle',\n",
       "  'last_name': 'Stokell',\n",
       "  'email': 'bstokell0@businessinsider.com',\n",
       "  'gender': 'Male',\n",
       "  'ip_address': '202.109.214.157'},\n",
       " {'id': 2,\n",
       "  'first_name': 'Conan',\n",
       "  'last_name': 'Leney',\n",
       "  'email': 'cleney1@ebay.com',\n",
       "  'gender': 'Male',\n",
       "  'ip_address': '93.32.42.203'},\n",
       " {'id': 3,\n",
       "  'first_name': 'Stephenie',\n",
       "  'last_name': 'Saiens',\n",
       "  'email': 'ssaiens2@washington.edu',\n",
       "  'gender': 'Female',\n",
       "  'ip_address': '180.45.20.16'},\n",
       " {'id': 4,\n",
       "  'first_name': 'Frayda',\n",
       "  'last_name': 'Tome',\n",
       "  'email': 'ftome3@engadget.com',\n",
       "  'gender': 'Female',\n",
       "  'ip_address': '58.97.218.54'},\n",
       " {'id': 5,\n",
       "  'first_name': 'Karalee',\n",
       "  'last_name': 'Cavilla',\n",
       "  'email': 'kcavilla4@sbwire.com',\n",
       "  'gender': 'Female',\n",
       "  'ip_address': '3.11.107.54'}]"
      ]
     },
     "execution_count": 98,
     "metadata": {},
     "output_type": "execute_result"
    }
   ],
   "source": [
    "data[:5]"
   ]
  },
  {
   "cell_type": "code",
   "execution_count": 112,
   "metadata": {},
   "outputs": [],
   "source": [
    "# https://docs.datastax.com/en/dse/6.0/cql/cql/cql_reference/cql_commands/cqlDropTable.html\n",
    "r = sess.execute(\"\"\"\n",
    "    DROP TABLE  IF EXISTS mydb.users ;\n",
    "\"\"\")"
   ]
  },
  {
   "cell_type": "code",
   "execution_count": 114,
   "metadata": {},
   "outputs": [],
   "source": [
    "# https://docs.datastax.com/en/dse/6.0/cql/cql/cql_reference/cql_commands/cqlCreateTable.html#cqlCreateTable\n",
    "r = sess.execute(\"\"\"\n",
    "                    CREATE TABLE IF NOT EXISTS mydb.users(\n",
    "                    id int PRIMARY KEY,\n",
    "                    first_name text,\n",
    "                    created timestamp,\n",
    "                    last_name text,\n",
    "                    ip_address inet,\n",
    "                    gender text,\n",
    "                    email text\n",
    "                )\n",
    "\"\"\")"
   ]
  },
  {
   "cell_type": "code",
   "execution_count": 116,
   "metadata": {},
   "outputs": [
    {
     "data": {
      "text/plain": [
       "<cassandra.cluster.ResultSet at 0x20f65428e80>"
      ]
     },
     "execution_count": 116,
     "metadata": {},
     "output_type": "execute_result"
    }
   ],
   "source": [
    "# https://docs.datastax.com/en/dse/6.0/cql/cql/cql_reference/cql_commands/cqlAlterTable.html\n",
    "sess.execute(\"\"\"\n",
    "    ALTER TABLE mydb.users\n",
    "    ADD passcode int\n",
    "\"\"\")"
   ]
  },
  {
   "cell_type": "code",
   "execution_count": 102,
   "metadata": {},
   "outputs": [
    {
     "data": {
      "text/plain": [
       "[]"
      ]
     },
     "execution_count": 102,
     "metadata": {},
     "output_type": "execute_result"
    }
   ],
   "source": [
    "list(r.all())"
   ]
  },
  {
   "cell_type": "code",
   "execution_count": 103,
   "metadata": {},
   "outputs": [
    {
     "data": {
      "text/plain": [
       "7"
      ]
     },
     "execution_count": 103,
     "metadata": {},
     "output_type": "execute_result"
    }
   ],
   "source": [
    "r = sess.execute(\"\"\"SELECT *\n",
    "  FROM system_schema.keyspaces\"\"\")\n",
    "rlist = list(r)\n",
    "len(rlist)"
   ]
  },
  {
   "cell_type": "code",
   "execution_count": 104,
   "metadata": {},
   "outputs": [
    {
     "name": "stdout",
     "output_type": "stream",
     "text": [
      "[Row(keyspace_name='system_auth', durable_writes=True, replication=OrderedMapSerializedKey([('aiven', '3'), ('class', 'org.apache.cassandra.locator.NetworkTopologyStrategy')])), Row(keyspace_name='system_schema', durable_writes=True, replication=OrderedMapSerializedKey([('class', 'org.apache.cassandra.locator.LocalStrategy')])), Row(keyspace_name='example_keyspace', durable_writes=True, replication=OrderedMapSerializedKey([('aiven', '3'), ('class', 'org.apache.cassandra.locator.NetworkTopologyStrategy')])), Row(keyspace_name='mydb', durable_writes=True, replication=OrderedMapSerializedKey([('aiven', '3'), ('class', 'org.apache.cassandra.locator.NetworkTopologyStrategy')])), Row(keyspace_name='system_distributed', durable_writes=True, replication=OrderedMapSerializedKey([('class', 'org.apache.cassandra.locator.SimpleStrategy'), ('replication_factor', '3')])), Row(keyspace_name='system', durable_writes=True, replication=OrderedMapSerializedKey([('class', 'org.apache.cassandra.locator.LocalStrategy')])), Row(keyspace_name='system_traces', durable_writes=True, replication=OrderedMapSerializedKey([('class', 'org.apache.cassandra.locator.SimpleStrategy'), ('replication_factor', '2')]))]\n"
     ]
    }
   ],
   "source": [
    "print(rlist)"
   ]
  },
  {
   "cell_type": "code",
   "execution_count": 117,
   "metadata": {},
   "outputs": [
    {
     "data": {
      "text/plain": [
       "[Row(keyspace_name='mydb', table_name='users', column_name='created', clustering_order='none', column_name_bytes=b'created', kind='regular', position=-1, type='timestamp'),\n",
       " Row(keyspace_name='mydb', table_name='users', column_name='email', clustering_order='none', column_name_bytes=b'email', kind='regular', position=-1, type='text'),\n",
       " Row(keyspace_name='mydb', table_name='users', column_name='first_name', clustering_order='none', column_name_bytes=b'first_name', kind='regular', position=-1, type='text'),\n",
       " Row(keyspace_name='mydb', table_name='users', column_name='gender', clustering_order='none', column_name_bytes=b'gender', kind='regular', position=-1, type='text'),\n",
       " Row(keyspace_name='mydb', table_name='users', column_name='id', clustering_order='none', column_name_bytes=b'id', kind='partition_key', position=0, type='int'),\n",
       " Row(keyspace_name='mydb', table_name='users', column_name='ip_address', clustering_order='none', column_name_bytes=b'ip_address', kind='regular', position=-1, type='inet'),\n",
       " Row(keyspace_name='mydb', table_name='users', column_name='last_name', clustering_order='none', column_name_bytes=b'last_name', kind='regular', position=-1, type='text'),\n",
       " Row(keyspace_name='mydb', table_name='users', column_name='passcode', clustering_order='none', column_name_bytes=b'passcode', kind='regular', position=-1, type='int')]"
      ]
     },
     "execution_count": 117,
     "metadata": {},
     "output_type": "execute_result"
    }
   ],
   "source": [
    "tinfo = sess.execute(\"\"\"\n",
    "SELECT *\n",
    "  FROM system_schema.columns \n",
    "  WHERE keyspace_name = 'mydb'\n",
    "  AND table_name = 'users';\"\"\")\n",
    "tlist = list(tinfo)\n",
    "tlist"
   ]
  },
  {
   "cell_type": "code",
   "execution_count": 106,
   "metadata": {},
   "outputs": [
    {
     "data": {
      "text/plain": [
       "100"
      ]
     },
     "execution_count": 106,
     "metadata": {},
     "output_type": "execute_result"
    }
   ],
   "source": [
    "len(data)"
   ]
  },
  {
   "cell_type": "code",
   "execution_count": 118,
   "metadata": {},
   "outputs": [
    {
     "data": {
      "text/plain": [
       "{'id': 1,\n",
       " 'first_name': 'Byrle',\n",
       " 'last_name': 'Stokell',\n",
       " 'email': 'bstokell0@businessinsider.com',\n",
       " 'gender': 'Male',\n",
       " 'ip_address': '202.109.214.157'}"
      ]
     },
     "execution_count": 118,
     "metadata": {},
     "output_type": "execute_result"
    }
   ],
   "source": [
    "frow = data[0]\n",
    "frow"
   ]
  },
  {
   "cell_type": "code",
   "execution_count": 122,
   "metadata": {},
   "outputs": [
    {
     "data": {
      "text/plain": [
       "1"
      ]
     },
     "execution_count": 122,
     "metadata": {},
     "output_type": "execute_result"
    }
   ],
   "source": [
    "frow['id']"
   ]
  },
  {
   "cell_type": "code",
   "execution_count": 120,
   "metadata": {},
   "outputs": [
    {
     "data": {
      "text/plain": [
       "1"
      ]
     },
     "execution_count": 120,
     "metadata": {},
     "output_type": "execute_result"
    }
   ],
   "source": [
    "frow.get('id')"
   ]
  },
  {
   "cell_type": "code",
   "execution_count": 123,
   "metadata": {},
   "outputs": [
    {
     "data": {
      "text/plain": [
       "['created',\n",
       " 'email',\n",
       " 'first_name',\n",
       " 'gender',\n",
       " 'id',\n",
       " 'ip_address',\n",
       " 'last_name',\n",
       " 'passcode']"
      ]
     },
     "execution_count": 123,
     "metadata": {},
     "output_type": "execute_result"
    }
   ],
   "source": [
    "columns = [r.column_name for r in tlist]\n",
    "columns"
   ]
  },
  {
   "cell_type": "code",
   "execution_count": 124,
   "metadata": {},
   "outputs": [
    {
     "data": {
      "text/plain": [
       "<cassandra.cluster.ResultSet at 0x20f646137f0>"
      ]
     },
     "execution_count": 124,
     "metadata": {},
     "output_type": "execute_result"
    }
   ],
   "source": [
    "# https://docs.datastax.com/en/dse/6.0/cql/cql/cql_reference/cql_commands/cqlInsert.html\n",
    "sess.execute(\"\"\"\n",
    "    INSERT INTO mydb.users\n",
    "    (created, email, first_name, gender, id, ip_address, last_name, passcode) \n",
    "    VALUES (toTimeStamp(now()), %s, %s, %s, %s, %s, %s, %s)\n",
    "\"\"\", (frow.get('email'), frow.get('first_name'), frow.get('gender'), \n",
    "      frow.get('id'), frow.get('ip_address'), frow.get('last_name'), 9000\n",
    "))"
   ]
  },
  {
   "cell_type": "code",
   "execution_count": 125,
   "metadata": {},
   "outputs": [
    {
     "data": {
      "text/plain": [
       "[Row(id=1, created=datetime.datetime(2020, 3, 7, 12, 21, 10, 565000), email='bstokell0@businessinsider.com', first_name='Byrle', gender='Male', ip_address='202.109.214.157', last_name='Stokell', passcode=9000)]"
      ]
     },
     "execution_count": 125,
     "metadata": {},
     "output_type": "execute_result"
    }
   ],
   "source": [
    "res = sess.execute(\"\"\"\n",
    "    SELECT * FROM mydb.users\n",
    "\"\"\")\n",
    "rlist = list(res)\n",
    "rlist"
   ]
  },
  {
   "cell_type": "code",
   "execution_count": 126,
   "metadata": {},
   "outputs": [],
   "source": [
    "for frow in data:\n",
    "    sess.execute(\"\"\"\n",
    "    INSERT INTO mydb.users\n",
    "    (created, email, first_name, gender, id, ip_address, last_name, passcode) \n",
    "    VALUES (toTimeStamp(now()), %s, %s, %s, %s, %s, %s, %s)\n",
    "\"\"\", (frow.get('email'), frow.get('first_name'), frow.get('gender'), \n",
    "      frow.get('id'), frow.get('ip_address'), frow.get('last_name'), 9000\n",
    "))"
   ]
  },
  {
   "cell_type": "code",
   "execution_count": 127,
   "metadata": {},
   "outputs": [
    {
     "data": {
      "text/plain": [
       "100"
      ]
     },
     "execution_count": 127,
     "metadata": {},
     "output_type": "execute_result"
    }
   ],
   "source": [
    "res = sess.execute(\"\"\"\n",
    "    SELECT * FROM mydb.users\n",
    "\"\"\")\n",
    "rlist = list(res)\n",
    "len(rlist)"
   ]
  },
  {
   "cell_type": "code",
   "execution_count": 128,
   "metadata": {},
   "outputs": [
    {
     "data": {
      "text/plain": [
       "Row(id=23, created=datetime.datetime(2020, 3, 7, 12, 26, 18, 79000), email='nflyem@indiegogo.com', first_name='Nikaniki', gender='Female', ip_address='193.25.231.40', last_name='Flye', passcode=9000)"
      ]
     },
     "execution_count": 128,
     "metadata": {},
     "output_type": "execute_result"
    }
   ],
   "source": [
    "rlist[0]"
   ]
  },
  {
   "cell_type": "code",
   "execution_count": 129,
   "metadata": {},
   "outputs": [
    {
     "data": {
      "text/plain": [
       "'nflyem@indiegogo.com'"
      ]
     },
     "execution_count": 129,
     "metadata": {},
     "output_type": "execute_result"
    }
   ],
   "source": [
    "rlist[0].email"
   ]
  },
  {
   "cell_type": "code",
   "execution_count": 134,
   "metadata": {},
   "outputs": [
    {
     "data": {
      "text/plain": [
       "[Row(id=50, created=datetime.datetime(2020, 3, 7, 12, 26, 19, 240000), email='bdaymond1d@yahoo.co.jp', first_name='Boonie', gender='Male', ip_address='220.3.17.217', last_name='Daymond', passcode=9000),\n",
       " Row(id=67, created=datetime.datetime(2020, 3, 7, 12, 26, 19, 922000), email='mstein1u@amazon.co.jp', first_name='Magdalena', gender='Female', ip_address='90.163.227.127', last_name='Stein', passcode=9000),\n",
       " Row(id=20, created=datetime.datetime(2020, 3, 7, 12, 26, 17, 956000), email='cmeadleyj@infoseek.co.jp', first_name='Cal', gender='Male', ip_address='106.228.181.172', last_name='Meadley', passcode=9000),\n",
       " Row(id=38, created=datetime.datetime(2020, 3, 7, 12, 26, 18, 722000), email='mmacnair11@jugem.jp', first_name='Mandel', gender='Male', ip_address='213.49.57.1', last_name='MacNair', passcode=9000),\n",
       " Row(id=31, created=datetime.datetime(2020, 3, 7, 12, 26, 18, 408000), email='ralsteru@biglobe.ne.jp', first_name='Raffaello', gender='Male', ip_address='115.122.226.244', last_name='Alster', passcode=9000),\n",
       " Row(id=65, created=datetime.datetime(2020, 3, 7, 12, 26, 19, 844000), email='aantonio1s@so-net.ne.jp', first_name='Annaliese', gender='Female', ip_address='175.165.8.160', last_name='Antonio', passcode=9000),\n",
       " Row(id=34, created=datetime.datetime(2020, 3, 7, 12, 26, 18, 536000), email='glarkinsx@rakuten.co.jp', first_name='Gerome', gender='Male', ip_address='52.211.118.45', last_name='Larkins', passcode=9000)]"
      ]
     },
     "execution_count": 134,
     "metadata": {},
     "output_type": "execute_result"
    }
   ],
   "source": [
    "japanese = [row for row in rlist if row.email.endswith('.jp')]\n",
    "japanese"
   ]
  },
  {
   "cell_type": "code",
   "execution_count": 146,
   "metadata": {},
   "outputs": [
    {
     "data": {
      "text/plain": [
       "<cassandra.cluster.ResultSet at 0x20f65459be0>"
      ]
     },
     "execution_count": 146,
     "metadata": {},
     "output_type": "execute_result"
    }
   ],
   "source": [
    "# https://docs.datastax.com/en/dse/5.1/cql/cql/cql_reference/cql_commands/cqlDropIndex.html\n",
    "sess.execute(\"\"\"\n",
    "    DROP INDEX mydb.users_email_idx\n",
    "\"\"\")"
   ]
  },
  {
   "cell_type": "code",
   "execution_count": 145,
   "metadata": {},
   "outputs": [
    {
     "data": {
      "text/plain": [
       "<cassandra.cluster.ResultSet at 0x20f654286d8>"
      ]
     },
     "execution_count": 145,
     "metadata": {},
     "output_type": "execute_result"
    }
   ],
   "source": [
    "\n",
    "# We need to create secondary index for filtering by WHERE with LIKE\n",
    "# https://docs.datastax.com/en/cql-oss/3.3/cql/cql_using/useSecondaryIndex.html\n",
    "sess.execute(\"\"\"\n",
    " CREATE INDEX ON mydb.users (email) ;\"\"\")"
   ]
  },
  {
   "cell_type": "code",
   "execution_count": 149,
   "metadata": {},
   "outputs": [
    {
     "name": "stderr",
     "output_type": "stream",
     "text": [
      "WARNING:cassandra.protocol:Server warning: SASI indexes are experimental and are not recommended for production use.\n"
     ]
    },
    {
     "data": {
      "text/plain": [
       "<cassandra.cluster.ResultSet at 0x20f6532c630>"
      ]
     },
     "execution_count": 149,
     "metadata": {},
     "output_type": "execute_result"
    }
   ],
   "source": [
    "# TURNS OUT WE need a special SASI index\n",
    "# http://www.tsoft.se/wp/2016/08/12/sql-like-operation-in-cassandra-is-possible-in-v3-4/\n",
    "sess.execute(\"\"\"\n",
    "    CREATE CUSTOM INDEX ON mydb.users (email) \n",
    "    USING 'org.apache.cassandra.index.sasi.SASIIndex' \n",
    "    WITH OPTIONS = {'mode': 'CONTAINS',\n",
    "    'analyzer_class': 'org.apache.cassandra.index.sasi.analyzer.StandardAnalyzer', \n",
    "    'case_sensitive': 'false'};\n",
    "\"\"\")"
   ]
  },
  {
   "cell_type": "code",
   "execution_count": 150,
   "metadata": {},
   "outputs": [
    {
     "data": {
      "text/plain": [
       "7"
      ]
     },
     "execution_count": 150,
     "metadata": {},
     "output_type": "execute_result"
    }
   ],
   "source": [
    "# https://docs.datastax.com/en/dse/6.7/cql/cql/cql_using/search_index/nativeCqlQueryExamples.html\n",
    "res = sess.execute(\"\"\"\n",
    "    SELECT * FROM mydb.users\n",
    "    WHERE email LIKE '%.jp';\n",
    "\"\"\")\n",
    "rlist = list(res)\n",
    "len(rlist)"
   ]
  },
  {
   "cell_type": "code",
   "execution_count": 151,
   "metadata": {},
   "outputs": [
    {
     "data": {
      "text/plain": [
       "[Row(id=50, created=datetime.datetime(2020, 3, 7, 12, 26, 19, 240000), email='bdaymond1d@yahoo.co.jp', first_name='Boonie', gender='Male', ip_address='220.3.17.217', last_name='Daymond', passcode=9000),\n",
       " Row(id=67, created=datetime.datetime(2020, 3, 7, 12, 26, 19, 922000), email='mstein1u@amazon.co.jp', first_name='Magdalena', gender='Female', ip_address='90.163.227.127', last_name='Stein', passcode=9000),\n",
       " Row(id=20, created=datetime.datetime(2020, 3, 7, 12, 26, 17, 956000), email='cmeadleyj@infoseek.co.jp', first_name='Cal', gender='Male', ip_address='106.228.181.172', last_name='Meadley', passcode=9000),\n",
       " Row(id=38, created=datetime.datetime(2020, 3, 7, 12, 26, 18, 722000), email='mmacnair11@jugem.jp', first_name='Mandel', gender='Male', ip_address='213.49.57.1', last_name='MacNair', passcode=9000),\n",
       " Row(id=31, created=datetime.datetime(2020, 3, 7, 12, 26, 18, 408000), email='ralsteru@biglobe.ne.jp', first_name='Raffaello', gender='Male', ip_address='115.122.226.244', last_name='Alster', passcode=9000),\n",
       " Row(id=65, created=datetime.datetime(2020, 3, 7, 12, 26, 19, 844000), email='aantonio1s@so-net.ne.jp', first_name='Annaliese', gender='Female', ip_address='175.165.8.160', last_name='Antonio', passcode=9000),\n",
       " Row(id=34, created=datetime.datetime(2020, 3, 7, 12, 26, 18, 536000), email='glarkinsx@rakuten.co.jp', first_name='Gerome', gender='Male', ip_address='52.211.118.45', last_name='Larkins', passcode=9000)]"
      ]
     },
     "execution_count": 151,
     "metadata": {},
     "output_type": "execute_result"
    }
   ],
   "source": [
    "rlist"
   ]
  }
 ],
 "metadata": {
  "kernelspec": {
   "display_name": "Python 3",
   "language": "python",
   "name": "python3"
  },
  "language_info": {
   "codemirror_mode": {
    "name": "ipython",
    "version": 3
   },
   "file_extension": ".py",
   "mimetype": "text/x-python",
   "name": "python",
   "nbconvert_exporter": "python",
   "pygments_lexer": "ipython3",
   "version": "3.7.3"
  }
 },
 "nbformat": 4,
 "nbformat_minor": 2
}
