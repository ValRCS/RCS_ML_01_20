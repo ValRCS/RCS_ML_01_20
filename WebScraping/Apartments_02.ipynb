{
 "cells": [
  {
   "cell_type": "code",
   "execution_count": 28,
   "metadata": {},
   "outputs": [],
   "source": [
    "# Requests for handling HTTP get and other requests\n",
    "import requests\n",
    "import time\n",
    "import pandas as pd\n",
    "# from BeautifulSoup4 import BeatifulSoup if installed through pip install BeautifulSoup4\n",
    "# \n",
    "from bs4 import BeautifulSoup\n"
   ]
  },
  {
   "cell_type": "code",
   "execution_count": 2,
   "metadata": {},
   "outputs": [],
   "source": [
    "url = \"https://www.ss.com/lv/real-estate/flats/riga/\"\n",
    "baseurl = \"https://ss.com\"\n",
    "postfix = \"sell/\""
   ]
  },
  {
   "cell_type": "code",
   "execution_count": 24,
   "metadata": {},
   "outputs": [],
   "source": [
    "def getRegionList(url, baseurl = \"https://ss.com\", postfix = \"sell/\"):\n",
    "    req = requests.get(url)\n",
    "    if req.status_code != 200:\n",
    "        print(f\"Bad response! {req.status_code}\")\n",
    "        return []\n",
    "    soup = BeautifulSoup(req.text, 'lxml')\n",
    "    allanchors = soup.find_all('a')\n",
    "    acats = [el for el in allanchors if 'class' in el.attrs\\\n",
    "             and 'a_category' in el.attrs['class']]\n",
    "    regionlist = [baseurl + el.attrs['href'] + postfix for el in acats]\n",
    "#     regiontuples = [(el.text, baseurl + el.attrs['href'] + postfix)\\\n",
    "#                     for el in acats]\n",
    "    # we do not want the last one with all\n",
    "    return regionlist[:-1]\n",
    "    "
   ]
  },
  {
   "cell_type": "code",
   "execution_count": 25,
   "metadata": {},
   "outputs": [
    {
     "data": {
      "text/plain": [
       "52"
      ]
     },
     "execution_count": 25,
     "metadata": {},
     "output_type": "execute_result"
    }
   ],
   "source": [
    "myregions = getRegionList(url)\n",
    "len(myregions)"
   ]
  },
  {
   "cell_type": "code",
   "execution_count": 22,
   "metadata": {},
   "outputs": [],
   "source": [
    "def getAllLocalUrls(url):\n",
    "    \"\"\"Get a list of all urls including paginated pages\"\"\"\n",
    "    results = [url] # default is just the url if no extra pages found\n",
    "    req = requests.get(url)\n",
    "    if req.status_code != 200:\n",
    "        print(f\"Bad response! {req.status_code}\")\n",
    "        return []\n",
    "    soup = BeautifulSoup(req.text, 'lxml')\n",
    "    # we just need a one element\n",
    "    prevanchor = soup.find('a', {\"rel\":\"prev\"})\n",
    "    if prevanchor == None:\n",
    "        return results\n",
    "    href = prevanchor.attrs.get('href')\n",
    "    lastPageNum = int(href.split('page')[-1].split('.')[0])\n",
    "    print(lastPageNum)\n",
    "    nurls = [f\"{url}page{n}.html\" for n in range(2,lastPageNum+1)]\n",
    "    results += nurls\n",
    "    return results"
   ]
  },
  {
   "cell_type": "code",
   "execution_count": 26,
   "metadata": {},
   "outputs": [
    {
     "name": "stdout",
     "output_type": "stream",
     "text": [
      "26\n"
     ]
    },
    {
     "data": {
      "text/plain": [
       "['https://ss.com/lv/real-estate/flats/riga/centre/sell/',\n",
       " 'https://ss.com/lv/real-estate/flats/riga/centre/sell/page2.html',\n",
       " 'https://ss.com/lv/real-estate/flats/riga/centre/sell/page3.html',\n",
       " 'https://ss.com/lv/real-estate/flats/riga/centre/sell/page4.html',\n",
       " 'https://ss.com/lv/real-estate/flats/riga/centre/sell/page5.html',\n",
       " 'https://ss.com/lv/real-estate/flats/riga/centre/sell/page6.html',\n",
       " 'https://ss.com/lv/real-estate/flats/riga/centre/sell/page7.html',\n",
       " 'https://ss.com/lv/real-estate/flats/riga/centre/sell/page8.html',\n",
       " 'https://ss.com/lv/real-estate/flats/riga/centre/sell/page9.html',\n",
       " 'https://ss.com/lv/real-estate/flats/riga/centre/sell/page10.html',\n",
       " 'https://ss.com/lv/real-estate/flats/riga/centre/sell/page11.html',\n",
       " 'https://ss.com/lv/real-estate/flats/riga/centre/sell/page12.html',\n",
       " 'https://ss.com/lv/real-estate/flats/riga/centre/sell/page13.html',\n",
       " 'https://ss.com/lv/real-estate/flats/riga/centre/sell/page14.html',\n",
       " 'https://ss.com/lv/real-estate/flats/riga/centre/sell/page15.html',\n",
       " 'https://ss.com/lv/real-estate/flats/riga/centre/sell/page16.html',\n",
       " 'https://ss.com/lv/real-estate/flats/riga/centre/sell/page17.html',\n",
       " 'https://ss.com/lv/real-estate/flats/riga/centre/sell/page18.html',\n",
       " 'https://ss.com/lv/real-estate/flats/riga/centre/sell/page19.html',\n",
       " 'https://ss.com/lv/real-estate/flats/riga/centre/sell/page20.html',\n",
       " 'https://ss.com/lv/real-estate/flats/riga/centre/sell/page21.html',\n",
       " 'https://ss.com/lv/real-estate/flats/riga/centre/sell/page22.html',\n",
       " 'https://ss.com/lv/real-estate/flats/riga/centre/sell/page23.html',\n",
       " 'https://ss.com/lv/real-estate/flats/riga/centre/sell/page24.html',\n",
       " 'https://ss.com/lv/real-estate/flats/riga/centre/sell/page25.html',\n",
       " 'https://ss.com/lv/real-estate/flats/riga/centre/sell/page26.html']"
      ]
     },
     "execution_count": 26,
     "metadata": {},
     "output_type": "execute_result"
    }
   ],
   "source": [
    "myresults = getAllLocalUrls(myregions[0])\n",
    "myresults"
   ]
  },
  {
   "cell_type": "code",
   "execution_count": 15,
   "metadata": {},
   "outputs": [
    {
     "data": {
      "text/plain": [
       "['/lv/real-estate/flats/riga/centre/sell/page26', 'html']"
      ]
     },
     "execution_count": 15,
     "metadata": {},
     "output_type": "execute_result"
    }
   ],
   "source": [
    "mysplit = href.split(\".\")\n",
    "mysplit"
   ]
  },
  {
   "cell_type": "code",
   "execution_count": 16,
   "metadata": {},
   "outputs": [
    {
     "data": {
      "text/plain": [
       "['/lv/real-estate/flats/riga/centre/sell/', '26']"
      ]
     },
     "execution_count": 16,
     "metadata": {},
     "output_type": "execute_result"
    }
   ],
   "source": [
    "splitbypage = mysplit[0].split(\"page\")\n",
    "splitbypage"
   ]
  },
  {
   "cell_type": "code",
   "execution_count": 19,
   "metadata": {},
   "outputs": [
    {
     "data": {
      "text/plain": [
       "(26, '26', str)"
      ]
     },
     "execution_count": 19,
     "metadata": {},
     "output_type": "execute_result"
    }
   ],
   "source": [
    "int(splitbypage[1]),splitbypage[1],type(splitbypage[1])"
   ]
  },
  {
   "cell_type": "code",
   "execution_count": 29,
   "metadata": {},
   "outputs": [],
   "source": [
    "def getAllUrls(url=\"https://www.ss.com/lv/real-estate/flats/riga/\"):\n",
    "    urlist = []\n",
    "    reglist = getRegionList(url)\n",
    "    for region in reglist:\n",
    "        print(f\"Working on {region}\")\n",
    "        regurls = getAllLocalUrls(region)\n",
    "        urlist += regurls\n",
    "        time.sleep(0.3)\n",
    "    return urlist"
   ]
  },
  {
   "cell_type": "code",
   "execution_count": 30,
   "metadata": {},
   "outputs": [
    {
     "name": "stdout",
     "output_type": "stream",
     "text": [
      "Working on https://ss.com/lv/real-estate/flats/riga/centre/sell/\n",
      "26\n",
      "Working on https://ss.com/lv/real-estate/flats/riga/agenskalns/sell/\n",
      "5\n",
      "Working on https://ss.com/lv/real-estate/flats/riga/aplokciems/sell/\n",
      "Working on https://ss.com/lv/real-estate/flats/riga/beberbeki/sell/\n",
      "Working on https://ss.com/lv/real-estate/flats/riga/bergi/sell/\n",
      "Working on https://ss.com/lv/real-estate/flats/riga/bierini/sell/\n",
      "Working on https://ss.com/lv/real-estate/flats/riga/bolderaya/sell/\n",
      "Working on https://ss.com/lv/real-estate/flats/riga/breksi/sell/\n",
      "Working on https://ss.com/lv/real-estate/flats/riga/bukulti/sell/\n",
      "Working on https://ss.com/lv/real-estate/flats/riga/bulli/sell/\n",
      "Working on https://ss.com/lv/real-estate/flats/riga/chiekurkalns/sell/\n",
      "Working on https://ss.com/lv/real-estate/flats/riga/darzciems/sell/\n",
      "Working on https://ss.com/lv/real-estate/flats/riga/daugavgriva/sell/\n",
      "Working on https://ss.com/lv/real-estate/flats/riga/dreilini/sell/\n",
      "Working on https://ss.com/lv/real-estate/flats/riga/dzeguzhkalns/sell/\n",
      "Working on https://ss.com/lv/real-estate/flats/riga/grizinkalns/sell/\n",
      "Working on https://ss.com/lv/real-estate/flats/riga/ilguciems/sell/\n",
      "3\n",
      "Working on https://ss.com/lv/real-estate/flats/riga/imanta/sell/\n",
      "6\n",
      "Working on https://ss.com/lv/real-estate/flats/riga/janjavarti/sell/\n",
      "Working on https://ss.com/lv/real-estate/flats/riga/jaunciems/sell/\n",
      "Working on https://ss.com/lv/real-estate/flats/riga/jaunmilgravis/sell/\n",
      "Working on https://ss.com/lv/real-estate/flats/riga/yugla/sell/\n",
      "3\n",
      "Working on https://ss.com/lv/real-estate/flats/riga/katlakalns/sell/\n",
      "Working on https://ss.com/lv/real-estate/flats/riga/kengarags/sell/\n",
      "6\n",
      "Working on https://ss.com/lv/real-estate/flats/riga/kipsala/sell/\n",
      "Working on https://ss.com/lv/real-estate/flats/riga/kleisti/sell/\n",
      "Working on https://ss.com/lv/real-estate/flats/riga/kliversala/sell/\n",
      "Working on https://ss.com/lv/real-estate/flats/riga/krasta-st-area/sell/\n",
      "Working on https://ss.com/lv/real-estate/flats/riga/kundzinsala/sell/\n",
      "Working on https://ss.com/lv/real-estate/flats/riga/mangali/sell/\n",
      "Working on https://ss.com/lv/real-estate/flats/riga/mangalsala/sell/\n",
      "Working on https://ss.com/lv/real-estate/flats/riga/maskavas-priekshpilseta/sell/\n",
      "Working on https://ss.com/lv/real-estate/flats/riga/mezhapark/sell/\n",
      "Working on https://ss.com/lv/real-estate/flats/riga/mezhciems/sell/\n",
      "3\n",
      "Working on https://ss.com/lv/real-estate/flats/riga/plyavnieki/sell/\n",
      "5\n",
      "Working on https://ss.com/lv/real-estate/flats/riga/purvciems/sell/\n",
      "8\n",
      "Working on https://ss.com/lv/real-estate/flats/riga/shampeteris-pleskodale/sell/\n",
      "Working on https://ss.com/lv/real-estate/flats/riga/sarkandaugava/sell/\n",
      "2\n",
      "Working on https://ss.com/lv/real-estate/flats/riga/shkirotava/sell/\n",
      "Working on https://ss.com/lv/real-estate/flats/riga/stacija-tirgus/sell/\n",
      "Working on https://ss.com/lv/real-estate/flats/riga/teika/sell/\n",
      "3\n",
      "Working on https://ss.com/lv/real-estate/flats/riga/tornjakalns/sell/\n",
      "Working on https://ss.com/lv/real-estate/flats/riga/vecaki/sell/\n",
      "Working on https://ss.com/lv/real-estate/flats/riga/vecdaugava/sell/\n",
      "Working on https://ss.com/lv/real-estate/flats/riga/vecmilgravis/sell/\n",
      "4\n",
      "Working on https://ss.com/lv/real-estate/flats/riga/vecriga/sell/\n",
      "3\n",
      "Working on https://ss.com/lv/real-estate/flats/riga/voleri/sell/\n",
      "Working on https://ss.com/lv/real-estate/flats/riga/zasulauks/sell/\n",
      "Working on https://ss.com/lv/real-estate/flats/riga/ziepniekkalns/sell/\n",
      "5\n",
      "Working on https://ss.com/lv/real-estate/flats/riga/zolitude/sell/\n",
      "3\n",
      "Working on https://ss.com/lv/real-estate/flats/riga/vef/sell/\n",
      "Working on https://ss.com/lv/real-estate/flats/riga/other/sell/\n"
     ]
    },
    {
     "data": {
      "text/plain": [
       "122"
      ]
     },
     "execution_count": 30,
     "metadata": {},
     "output_type": "execute_result"
    }
   ],
   "source": [
    "urlist = getAllUrls()\n",
    "len(urlist)"
   ]
  },
  {
   "cell_type": "code",
   "execution_count": 31,
   "metadata": {},
   "outputs": [],
   "source": [
    "def getAllRows(url):\n",
    "    req = requests.get(url)\n",
    "    if req.status_code != 200:\n",
    "        print(f\"Bad response! {req.status_code}\")\n",
    "        return []\n",
    "    soup = BeautifulSoup(req.text, 'lxml')\n",
    "    allrows = soup.find_all('tr')\n",
    "    adrows = [el for el in allrows\\\n",
    "              if 'id' in el.attrs and 'tr_' in el.attrs['id']]\n",
    "    return adrows[:-1] # since the last one is not an ad"
   ]
  },
  {
   "cell_type": "code",
   "execution_count": 32,
   "metadata": {},
   "outputs": [
    {
     "data": {
      "text/plain": [
       "2"
      ]
     },
     "execution_count": 32,
     "metadata": {},
     "output_type": "execute_result"
    }
   ],
   "source": [
    "other = getAllRows(\"https://ss.com/lv/real-estate/flats/riga/other/sell/\")\n",
    "len(other)"
   ]
  },
  {
   "cell_type": "code",
   "execution_count": 33,
   "metadata": {},
   "outputs": [],
   "source": [
    "def getRow(row):\n",
    "    # get all table data cells\n",
    "    tds = row.find_all('td')\n",
    "    adlist = []\n",
    "    adlist.append(tds[1].find('a').attrs['href'])\n",
    "    for td in tds[2:]:\n",
    "        adlist.append(td.text)\n",
    "    return tuple(adlist)"
   ]
  },
  {
   "cell_type": "code",
   "execution_count": 34,
   "metadata": {},
   "outputs": [
    {
     "data": {
      "text/plain": [
       "('/msg/lv/real-estate/flats/riga/other/blpgn.html',\n",
       " 'Ogļu 32-1. Īpašnieks pārdod ekskluzīvo mebelētu 3-istabu dzīvokl',\n",
       " 'Ogļu 32',\n",
       " '3',\n",
       " '79',\n",
       " '1/4',\n",
       " 'Renov.',\n",
       " '3,291 €',\n",
       " '260,000  €')"
      ]
     },
     "execution_count": 34,
     "metadata": {},
     "output_type": "execute_result"
    }
   ],
   "source": [
    "getRow(other[0])"
   ]
  },
  {
   "cell_type": "code",
   "execution_count": 48,
   "metadata": {},
   "outputs": [],
   "source": [
    "def processAllUrls(urlist):\n",
    "    results = []\n",
    "    for url in urlist:\n",
    "        print(f\"Processing {url}\")\n",
    "        rows = getAllRows(url)\n",
    "        for row in rows:\n",
    "            results.append(getRow(row))\n",
    "        time.sleep(0.3)\n",
    "    return results"
   ]
  },
  {
   "cell_type": "code",
   "execution_count": 49,
   "metadata": {},
   "outputs": [
    {
     "name": "stdout",
     "output_type": "stream",
     "text": [
      "Processing https://ss.com/lv/real-estate/flats/riga/centre/sell/\n",
      "Processing https://ss.com/lv/real-estate/flats/riga/centre/sell/page2.html\n",
      "Processing https://ss.com/lv/real-estate/flats/riga/centre/sell/page3.html\n",
      "Processing https://ss.com/lv/real-estate/flats/riga/centre/sell/page4.html\n",
      "Processing https://ss.com/lv/real-estate/flats/riga/centre/sell/page5.html\n",
      "Processing https://ss.com/lv/real-estate/flats/riga/centre/sell/page6.html\n",
      "Processing https://ss.com/lv/real-estate/flats/riga/centre/sell/page7.html\n",
      "Processing https://ss.com/lv/real-estate/flats/riga/centre/sell/page8.html\n",
      "Processing https://ss.com/lv/real-estate/flats/riga/centre/sell/page9.html\n",
      "Processing https://ss.com/lv/real-estate/flats/riga/centre/sell/page10.html\n",
      "Processing https://ss.com/lv/real-estate/flats/riga/centre/sell/page11.html\n",
      "Processing https://ss.com/lv/real-estate/flats/riga/centre/sell/page12.html\n",
      "Processing https://ss.com/lv/real-estate/flats/riga/centre/sell/page13.html\n",
      "Processing https://ss.com/lv/real-estate/flats/riga/centre/sell/page14.html\n",
      "Processing https://ss.com/lv/real-estate/flats/riga/centre/sell/page15.html\n",
      "Processing https://ss.com/lv/real-estate/flats/riga/centre/sell/page16.html\n",
      "Processing https://ss.com/lv/real-estate/flats/riga/centre/sell/page17.html\n",
      "Processing https://ss.com/lv/real-estate/flats/riga/centre/sell/page18.html\n",
      "Processing https://ss.com/lv/real-estate/flats/riga/centre/sell/page19.html\n",
      "Processing https://ss.com/lv/real-estate/flats/riga/centre/sell/page20.html\n",
      "Processing https://ss.com/lv/real-estate/flats/riga/centre/sell/page21.html\n",
      "Processing https://ss.com/lv/real-estate/flats/riga/centre/sell/page22.html\n",
      "Processing https://ss.com/lv/real-estate/flats/riga/centre/sell/page23.html\n",
      "Processing https://ss.com/lv/real-estate/flats/riga/centre/sell/page24.html\n",
      "Processing https://ss.com/lv/real-estate/flats/riga/centre/sell/page25.html\n",
      "Processing https://ss.com/lv/real-estate/flats/riga/centre/sell/page26.html\n",
      "Processing https://ss.com/lv/real-estate/flats/riga/agenskalns/sell/\n",
      "Processing https://ss.com/lv/real-estate/flats/riga/agenskalns/sell/page2.html\n",
      "Processing https://ss.com/lv/real-estate/flats/riga/agenskalns/sell/page3.html\n",
      "Processing https://ss.com/lv/real-estate/flats/riga/agenskalns/sell/page4.html\n",
      "Processing https://ss.com/lv/real-estate/flats/riga/agenskalns/sell/page5.html\n",
      "Processing https://ss.com/lv/real-estate/flats/riga/aplokciems/sell/\n",
      "Processing https://ss.com/lv/real-estate/flats/riga/beberbeki/sell/\n",
      "Processing https://ss.com/lv/real-estate/flats/riga/bergi/sell/\n",
      "Processing https://ss.com/lv/real-estate/flats/riga/bierini/sell/\n",
      "Processing https://ss.com/lv/real-estate/flats/riga/bolderaya/sell/\n",
      "Processing https://ss.com/lv/real-estate/flats/riga/breksi/sell/\n",
      "Processing https://ss.com/lv/real-estate/flats/riga/bukulti/sell/\n",
      "Processing https://ss.com/lv/real-estate/flats/riga/bulli/sell/\n",
      "Processing https://ss.com/lv/real-estate/flats/riga/chiekurkalns/sell/\n",
      "Processing https://ss.com/lv/real-estate/flats/riga/darzciems/sell/\n",
      "Processing https://ss.com/lv/real-estate/flats/riga/daugavgriva/sell/\n",
      "Processing https://ss.com/lv/real-estate/flats/riga/dreilini/sell/\n",
      "Processing https://ss.com/lv/real-estate/flats/riga/dzeguzhkalns/sell/\n",
      "Processing https://ss.com/lv/real-estate/flats/riga/grizinkalns/sell/\n",
      "Processing https://ss.com/lv/real-estate/flats/riga/ilguciems/sell/\n",
      "Processing https://ss.com/lv/real-estate/flats/riga/ilguciems/sell/page2.html\n",
      "Processing https://ss.com/lv/real-estate/flats/riga/ilguciems/sell/page3.html\n",
      "Processing https://ss.com/lv/real-estate/flats/riga/imanta/sell/\n",
      "Processing https://ss.com/lv/real-estate/flats/riga/imanta/sell/page2.html\n",
      "Processing https://ss.com/lv/real-estate/flats/riga/imanta/sell/page3.html\n",
      "Processing https://ss.com/lv/real-estate/flats/riga/imanta/sell/page4.html\n",
      "Processing https://ss.com/lv/real-estate/flats/riga/imanta/sell/page5.html\n",
      "Processing https://ss.com/lv/real-estate/flats/riga/imanta/sell/page6.html\n",
      "Processing https://ss.com/lv/real-estate/flats/riga/janjavarti/sell/\n",
      "Processing https://ss.com/lv/real-estate/flats/riga/jaunciems/sell/\n",
      "Processing https://ss.com/lv/real-estate/flats/riga/jaunmilgravis/sell/\n",
      "Processing https://ss.com/lv/real-estate/flats/riga/yugla/sell/\n",
      "Processing https://ss.com/lv/real-estate/flats/riga/yugla/sell/page2.html\n",
      "Processing https://ss.com/lv/real-estate/flats/riga/yugla/sell/page3.html\n",
      "Processing https://ss.com/lv/real-estate/flats/riga/katlakalns/sell/\n",
      "Processing https://ss.com/lv/real-estate/flats/riga/kengarags/sell/\n",
      "Processing https://ss.com/lv/real-estate/flats/riga/kengarags/sell/page2.html\n",
      "Processing https://ss.com/lv/real-estate/flats/riga/kengarags/sell/page3.html\n",
      "Processing https://ss.com/lv/real-estate/flats/riga/kengarags/sell/page4.html\n",
      "Processing https://ss.com/lv/real-estate/flats/riga/kengarags/sell/page5.html\n",
      "Processing https://ss.com/lv/real-estate/flats/riga/kengarags/sell/page6.html\n",
      "Processing https://ss.com/lv/real-estate/flats/riga/kipsala/sell/\n",
      "Processing https://ss.com/lv/real-estate/flats/riga/kleisti/sell/\n",
      "Processing https://ss.com/lv/real-estate/flats/riga/kliversala/sell/\n",
      "Processing https://ss.com/lv/real-estate/flats/riga/krasta-st-area/sell/\n",
      "Processing https://ss.com/lv/real-estate/flats/riga/kundzinsala/sell/\n",
      "Processing https://ss.com/lv/real-estate/flats/riga/mangali/sell/\n",
      "Processing https://ss.com/lv/real-estate/flats/riga/mangalsala/sell/\n",
      "Processing https://ss.com/lv/real-estate/flats/riga/maskavas-priekshpilseta/sell/\n",
      "Processing https://ss.com/lv/real-estate/flats/riga/mezhapark/sell/\n",
      "Processing https://ss.com/lv/real-estate/flats/riga/mezhciems/sell/\n",
      "Processing https://ss.com/lv/real-estate/flats/riga/mezhciems/sell/page2.html\n",
      "Processing https://ss.com/lv/real-estate/flats/riga/mezhciems/sell/page3.html\n",
      "Processing https://ss.com/lv/real-estate/flats/riga/plyavnieki/sell/\n",
      "Processing https://ss.com/lv/real-estate/flats/riga/plyavnieki/sell/page2.html\n",
      "Processing https://ss.com/lv/real-estate/flats/riga/plyavnieki/sell/page3.html\n",
      "Processing https://ss.com/lv/real-estate/flats/riga/plyavnieki/sell/page4.html\n",
      "Processing https://ss.com/lv/real-estate/flats/riga/plyavnieki/sell/page5.html\n",
      "Processing https://ss.com/lv/real-estate/flats/riga/purvciems/sell/\n",
      "Processing https://ss.com/lv/real-estate/flats/riga/purvciems/sell/page2.html\n",
      "Processing https://ss.com/lv/real-estate/flats/riga/purvciems/sell/page3.html\n",
      "Processing https://ss.com/lv/real-estate/flats/riga/purvciems/sell/page4.html\n",
      "Processing https://ss.com/lv/real-estate/flats/riga/purvciems/sell/page5.html\n",
      "Processing https://ss.com/lv/real-estate/flats/riga/purvciems/sell/page6.html\n",
      "Processing https://ss.com/lv/real-estate/flats/riga/purvciems/sell/page7.html\n",
      "Processing https://ss.com/lv/real-estate/flats/riga/purvciems/sell/page8.html\n",
      "Processing https://ss.com/lv/real-estate/flats/riga/shampeteris-pleskodale/sell/\n",
      "Processing https://ss.com/lv/real-estate/flats/riga/sarkandaugava/sell/\n",
      "Processing https://ss.com/lv/real-estate/flats/riga/sarkandaugava/sell/page2.html\n",
      "Processing https://ss.com/lv/real-estate/flats/riga/shkirotava/sell/\n",
      "Processing https://ss.com/lv/real-estate/flats/riga/stacija-tirgus/sell/\n",
      "Processing https://ss.com/lv/real-estate/flats/riga/teika/sell/\n",
      "Processing https://ss.com/lv/real-estate/flats/riga/teika/sell/page2.html\n",
      "Processing https://ss.com/lv/real-estate/flats/riga/teika/sell/page3.html\n",
      "Processing https://ss.com/lv/real-estate/flats/riga/tornjakalns/sell/\n",
      "Processing https://ss.com/lv/real-estate/flats/riga/vecaki/sell/\n",
      "Processing https://ss.com/lv/real-estate/flats/riga/vecdaugava/sell/\n",
      "Processing https://ss.com/lv/real-estate/flats/riga/vecmilgravis/sell/\n",
      "Processing https://ss.com/lv/real-estate/flats/riga/vecmilgravis/sell/page2.html\n",
      "Processing https://ss.com/lv/real-estate/flats/riga/vecmilgravis/sell/page3.html\n",
      "Processing https://ss.com/lv/real-estate/flats/riga/vecmilgravis/sell/page4.html\n",
      "Processing https://ss.com/lv/real-estate/flats/riga/vecriga/sell/\n",
      "Processing https://ss.com/lv/real-estate/flats/riga/vecriga/sell/page2.html\n",
      "Processing https://ss.com/lv/real-estate/flats/riga/vecriga/sell/page3.html\n",
      "Processing https://ss.com/lv/real-estate/flats/riga/voleri/sell/\n",
      "Processing https://ss.com/lv/real-estate/flats/riga/zasulauks/sell/\n"
     ]
    },
    {
     "name": "stdout",
     "output_type": "stream",
     "text": [
      "Processing https://ss.com/lv/real-estate/flats/riga/ziepniekkalns/sell/\n",
      "Processing https://ss.com/lv/real-estate/flats/riga/ziepniekkalns/sell/page2.html\n",
      "Processing https://ss.com/lv/real-estate/flats/riga/ziepniekkalns/sell/page3.html\n",
      "Processing https://ss.com/lv/real-estate/flats/riga/ziepniekkalns/sell/page4.html\n",
      "Processing https://ss.com/lv/real-estate/flats/riga/ziepniekkalns/sell/page5.html\n",
      "Processing https://ss.com/lv/real-estate/flats/riga/zolitude/sell/\n",
      "Processing https://ss.com/lv/real-estate/flats/riga/zolitude/sell/page2.html\n",
      "Processing https://ss.com/lv/real-estate/flats/riga/zolitude/sell/page3.html\n",
      "Processing https://ss.com/lv/real-estate/flats/riga/vef/sell/\n",
      "Processing https://ss.com/lv/real-estate/flats/riga/other/sell/\n"
     ]
    },
    {
     "data": {
      "text/plain": [
       "2740"
      ]
     },
     "execution_count": 49,
     "metadata": {},
     "output_type": "execute_result"
    }
   ],
   "source": [
    "myrooms = processAllUrls(urlist)\n",
    "len(myrooms)"
   ]
  },
  {
   "cell_type": "code",
   "execution_count": 50,
   "metadata": {},
   "outputs": [
    {
     "data": {
      "text/plain": [
       "[('/msg/lv/real-estate/flats/riga/centre/adkci.html',\n",
       "  'Владелец начинает продажу квартир в здании проектированном знаме',\n",
       "  'Avotu 4',\n",
       "  '1',\n",
       "  '26',\n",
       "  '2/5',\n",
       "  'P. kara',\n",
       "  '1,661 €',\n",
       "  '43,190  €'),\n",
       " ('/msg/lv/real-estate/flats/riga/centre/cecjd.html',\n",
       "  'Pārdodu mansarda dzīvokli tikko pēc kapitālā remonta:\\r\\n\\r\\n+ koka ',\n",
       "  'Miera 105',\n",
       "  '3',\n",
       "  '71',\n",
       "  '6/6',\n",
       "  'Renov.',\n",
       "  '1,823 €',\n",
       "  '129,402  €'),\n",
       " ('/msg/lv/real-estate/flats/riga/centre/bepeij.html',\n",
       "  'Pārdod 48, 7 kvadrātmetrus plašu divu izolētu istabu dzīvokli, k',\n",
       "  'Alūksnes 2',\n",
       "  '2',\n",
       "  '49',\n",
       "  '3/5',\n",
       "  'Staļina',\n",
       "  '1,388 €',\n",
       "  '68,000  €'),\n",
       " ('/msg/lv/real-estate/flats/riga/centre/bmghm.html',\n",
       "  'Kompakts 3 istabu dzīvoklis renovētā ēkā. \\r\\nDzīvoklis ir izvieto',\n",
       "  'Blaumaņa 12',\n",
       "  '3',\n",
       "  '64',\n",
       "  '4/6',\n",
       "  'Renov.',\n",
       "  '2,382 €',\n",
       "  '152,475  €'),\n",
       " ('/msg/lv/real-estate/flats/riga/centre/ebjkm.html',\n",
       "  'Pārdod 4 istabu dzīvokli Rīgas vēsturiskajā centrā, Dzirnavu iel',\n",
       "  'Dzirnavu 66A',\n",
       "  '4',\n",
       "  '102',\n",
       "  '2/6',\n",
       "  'P. kara',\n",
       "  '1,765 €',\n",
       "  '180,000  €')]"
      ]
     },
     "execution_count": 50,
     "metadata": {},
     "output_type": "execute_result"
    }
   ],
   "source": [
    "myrooms[:5]"
   ]
  },
  {
   "cell_type": "code",
   "execution_count": 42,
   "metadata": {},
   "outputs": [
    {
     "data": {
      "text/plain": [
       "2741.0"
      ]
     },
     "execution_count": 42,
     "metadata": {},
     "output_type": "execute_result"
    }
   ],
   "source": [
    "len(myrooms)/9"
   ]
  },
  {
   "cell_type": "code",
   "execution_count": null,
   "metadata": {},
   "outputs": [],
   "source": []
  },
  {
   "cell_type": "code",
   "execution_count": 46,
   "metadata": {},
   "outputs": [
    {
     "data": {
      "text/plain": [
       "2741"
      ]
     },
     "execution_count": 46,
     "metadata": {},
     "output_type": "execute_result"
    }
   ],
   "source": [
    "# originally we messed up and used += instead of mylist.append(newitem)\n",
    "fixmyrooms = [tuple(myrooms[n*9:n*9+9]) for n in range(len(myrooms)//9)]\n",
    "len(fixmyrooms)"
   ]
  },
  {
   "cell_type": "code",
   "execution_count": 47,
   "metadata": {},
   "outputs": [
    {
     "data": {
      "text/plain": [
       "[('/msg/lv/real-estate/flats/riga/centre/adkci.html',\n",
       "  'Владелец начинает продажу квартир в здании проектированном знаме',\n",
       "  'Avotu 4',\n",
       "  '1',\n",
       "  '26',\n",
       "  '2/5',\n",
       "  'P. kara',\n",
       "  '1,661 €',\n",
       "  '43,190  €'),\n",
       " ('/msg/lv/real-estate/flats/riga/centre/cecjd.html',\n",
       "  'Pārdodu mansarda dzīvokli tikko pēc kapitālā remonta:\\r\\n\\r\\n+ koka ',\n",
       "  'Miera 105',\n",
       "  '3',\n",
       "  '71',\n",
       "  '6/6',\n",
       "  'Renov.',\n",
       "  '1,823 €',\n",
       "  '129,402  €'),\n",
       " ('/msg/lv/real-estate/flats/riga/centre/bepeij.html',\n",
       "  'Pārdod 48, 7 kvadrātmetrus plašu divu izolētu istabu dzīvokli, k',\n",
       "  'Alūksnes 2',\n",
       "  '2',\n",
       "  '49',\n",
       "  '3/5',\n",
       "  'Staļina',\n",
       "  '1,388 €',\n",
       "  '68,000  €'),\n",
       " ('/msg/lv/real-estate/flats/riga/centre/bmghm.html',\n",
       "  'Kompakts 3 istabu dzīvoklis renovētā ēkā. \\r\\nDzīvoklis ir izvieto',\n",
       "  'Blaumaņa 12',\n",
       "  '3',\n",
       "  '64',\n",
       "  '4/6',\n",
       "  'Renov.',\n",
       "  '2,382 €',\n",
       "  '152,475  €'),\n",
       " ('/msg/lv/real-estate/flats/riga/centre/ebjkm.html',\n",
       "  'Pārdod 4 istabu dzīvokli Rīgas vēsturiskajā centrā, Dzirnavu iel',\n",
       "  'Dzirnavu 66A',\n",
       "  '4',\n",
       "  '102',\n",
       "  '2/6',\n",
       "  'P. kara',\n",
       "  '1,765 €',\n",
       "  '180,000  €')]"
      ]
     },
     "execution_count": 47,
     "metadata": {},
     "output_type": "execute_result"
    }
   ],
   "source": [
    "fixmyrooms[:5]"
   ]
  },
  {
   "cell_type": "code",
   "execution_count": 58,
   "metadata": {},
   "outputs": [
    {
     "data": {
      "text/plain": [
       "[('https://www.ss.com/msg/lv/real-estate/flats/riga/centre/adkci.html',\n",
       "  'Владелец начинает продажу квартир в здании проектированном знаме',\n",
       "  'Avotu 4',\n",
       "  '1',\n",
       "  '26',\n",
       "  '2/5',\n",
       "  'P. kara',\n",
       "  '1,661 €',\n",
       "  '43,190  €'),\n",
       " ('https://www.ss.com/msg/lv/real-estate/flats/riga/centre/cecjd.html',\n",
       "  'Pārdodu mansarda dzīvokli tikko pēc kapitālā remonta:\\r\\n\\r\\n+ koka ',\n",
       "  'Miera 105',\n",
       "  '3',\n",
       "  '71',\n",
       "  '6/6',\n",
       "  'Renov.',\n",
       "  '1,823 €',\n",
       "  '129,402  €'),\n",
       " ('https://www.ss.com/msg/lv/real-estate/flats/riga/centre/bepeij.html',\n",
       "  'Pārdod 48, 7 kvadrātmetrus plašu divu izolētu istabu dzīvokli, k',\n",
       "  'Alūksnes 2',\n",
       "  '2',\n",
       "  '49',\n",
       "  '3/5',\n",
       "  'Staļina',\n",
       "  '1,388 €',\n",
       "  '68,000  €')]"
      ]
     },
     "execution_count": 58,
     "metadata": {},
     "output_type": "execute_result"
    }
   ],
   "source": [
    "base  = \"https://www.ss.com\"\n",
    "fixmyrooms = [tuple([base+el[0]] + list(el[1:])) for el in myrooms]\n",
    "fixmyrooms[:3]"
   ]
  },
  {
   "cell_type": "code",
   "execution_count": 59,
   "metadata": {},
   "outputs": [
    {
     "data": {
      "text/html": [
       "<div>\n",
       "<style scoped>\n",
       "    .dataframe tbody tr th:only-of-type {\n",
       "        vertical-align: middle;\n",
       "    }\n",
       "\n",
       "    .dataframe tbody tr th {\n",
       "        vertical-align: top;\n",
       "    }\n",
       "\n",
       "    .dataframe thead th {\n",
       "        text-align: right;\n",
       "    }\n",
       "</style>\n",
       "<table border=\"1\" class=\"dataframe\">\n",
       "  <thead>\n",
       "    <tr style=\"text-align: right;\">\n",
       "      <th></th>\n",
       "      <th>0</th>\n",
       "      <th>1</th>\n",
       "      <th>2</th>\n",
       "      <th>3</th>\n",
       "      <th>4</th>\n",
       "      <th>5</th>\n",
       "      <th>6</th>\n",
       "      <th>7</th>\n",
       "      <th>8</th>\n",
       "    </tr>\n",
       "  </thead>\n",
       "  <tbody>\n",
       "    <tr>\n",
       "      <th>0</th>\n",
       "      <td>https://www.ss.com/msg/lv/real-estate/flats/ri...</td>\n",
       "      <td>Владелец начинает продажу квартир в здании про...</td>\n",
       "      <td>Avotu 4</td>\n",
       "      <td>1</td>\n",
       "      <td>26</td>\n",
       "      <td>2/5</td>\n",
       "      <td>P. kara</td>\n",
       "      <td>1,661 €</td>\n",
       "      <td>43,190  €</td>\n",
       "    </tr>\n",
       "    <tr>\n",
       "      <th>1</th>\n",
       "      <td>https://www.ss.com/msg/lv/real-estate/flats/ri...</td>\n",
       "      <td>Pārdodu mansarda dzīvokli tikko pēc kapitālā r...</td>\n",
       "      <td>Miera 105</td>\n",
       "      <td>3</td>\n",
       "      <td>71</td>\n",
       "      <td>6/6</td>\n",
       "      <td>Renov.</td>\n",
       "      <td>1,823 €</td>\n",
       "      <td>129,402  €</td>\n",
       "    </tr>\n",
       "    <tr>\n",
       "      <th>2</th>\n",
       "      <td>https://www.ss.com/msg/lv/real-estate/flats/ri...</td>\n",
       "      <td>Pārdod 48, 7 kvadrātmetrus plašu divu izolētu ...</td>\n",
       "      <td>Alūksnes 2</td>\n",
       "      <td>2</td>\n",
       "      <td>49</td>\n",
       "      <td>3/5</td>\n",
       "      <td>Staļina</td>\n",
       "      <td>1,388 €</td>\n",
       "      <td>68,000  €</td>\n",
       "    </tr>\n",
       "    <tr>\n",
       "      <th>3</th>\n",
       "      <td>https://www.ss.com/msg/lv/real-estate/flats/ri...</td>\n",
       "      <td>Kompakts 3 istabu dzīvoklis renovētā ēkā. \\r\\n...</td>\n",
       "      <td>Blaumaņa 12</td>\n",
       "      <td>3</td>\n",
       "      <td>64</td>\n",
       "      <td>4/6</td>\n",
       "      <td>Renov.</td>\n",
       "      <td>2,382 €</td>\n",
       "      <td>152,475  €</td>\n",
       "    </tr>\n",
       "    <tr>\n",
       "      <th>4</th>\n",
       "      <td>https://www.ss.com/msg/lv/real-estate/flats/ri...</td>\n",
       "      <td>Pārdod 4 istabu dzīvokli Rīgas vēsturiskajā ce...</td>\n",
       "      <td>Dzirnavu 66A</td>\n",
       "      <td>4</td>\n",
       "      <td>102</td>\n",
       "      <td>2/6</td>\n",
       "      <td>P. kara</td>\n",
       "      <td>1,765 €</td>\n",
       "      <td>180,000  €</td>\n",
       "    </tr>\n",
       "  </tbody>\n",
       "</table>\n",
       "</div>"
      ],
      "text/plain": [
       "                                                   0  \\\n",
       "0  https://www.ss.com/msg/lv/real-estate/flats/ri...   \n",
       "1  https://www.ss.com/msg/lv/real-estate/flats/ri...   \n",
       "2  https://www.ss.com/msg/lv/real-estate/flats/ri...   \n",
       "3  https://www.ss.com/msg/lv/real-estate/flats/ri...   \n",
       "4  https://www.ss.com/msg/lv/real-estate/flats/ri...   \n",
       "\n",
       "                                                   1             2  3    4  \\\n",
       "0  Владелец начинает продажу квартир в здании про...       Avotu 4  1   26   \n",
       "1  Pārdodu mansarda dzīvokli tikko pēc kapitālā r...     Miera 105  3   71   \n",
       "2  Pārdod 48, 7 kvadrātmetrus plašu divu izolētu ...    Alūksnes 2  2   49   \n",
       "3  Kompakts 3 istabu dzīvoklis renovētā ēkā. \\r\\n...   Blaumaņa 12  3   64   \n",
       "4  Pārdod 4 istabu dzīvokli Rīgas vēsturiskajā ce...  Dzirnavu 66A  4  102   \n",
       "\n",
       "     5        6        7           8  \n",
       "0  2/5  P. kara  1,661 €   43,190  €  \n",
       "1  6/6   Renov.  1,823 €  129,402  €  \n",
       "2  3/5  Staļina  1,388 €   68,000  €  \n",
       "3  4/6   Renov.  2,382 €  152,475  €  \n",
       "4  2/6  P. kara  1,765 €  180,000  €  "
      ]
     },
     "execution_count": 59,
     "metadata": {},
     "output_type": "execute_result"
    }
   ],
   "source": [
    "df = pd.DataFrame(fixmyrooms)\n",
    "df.head()"
   ]
  },
  {
   "cell_type": "code",
   "execution_count": 60,
   "metadata": {},
   "outputs": [],
   "source": [
    "df.to_csv('apartments.csv')"
   ]
  },
  {
   "cell_type": "code",
   "execution_count": 62,
   "metadata": {},
   "outputs": [],
   "source": [
    "df.to_excel('apartments.xlsx')"
   ]
  },
  {
   "cell_type": "code",
   "execution_count": 74,
   "metadata": {},
   "outputs": [],
   "source": [
    "def getColumnNames(url, colNames = ['URL', 'Description']):\n",
    "    result = []\n",
    "    result += colNames\n",
    "    req = requests.get(url)\n",
    "    if req.status_code != 200:\n",
    "        print(f\"Bad response! {req.status_code}\")\n",
    "        return []\n",
    "    soup = BeautifulSoup(req.text, 'lxml')\n",
    "    columnrow = soup.find('tr', {'id':'head_line'})\n",
    "    tds = columnrow.find_all('td')\n",
    "    for td in tds[1:]:\n",
    "        result.append(td.text)\n",
    "    return result\n",
    "    "
   ]
  },
  {
   "cell_type": "code",
   "execution_count": null,
   "metadata": {},
   "outputs": [],
   "source": []
  },
  {
   "cell_type": "code",
   "execution_count": 75,
   "metadata": {},
   "outputs": [],
   "source": [
    "columnNames = getColumnNames(\"https://www.ss.com/lv/real-estate/flats/riga/other/sell/\")"
   ]
  },
  {
   "cell_type": "code",
   "execution_count": 76,
   "metadata": {},
   "outputs": [
    {
     "data": {
      "text/plain": [
       "9"
      ]
     },
     "execution_count": 76,
     "metadata": {},
     "output_type": "execute_result"
    }
   ],
   "source": [
    "len(columnNames)"
   ]
  },
  {
   "cell_type": "code",
   "execution_count": 77,
   "metadata": {},
   "outputs": [
    {
     "data": {
      "text/plain": [
       "['URL',\n",
       " 'Description',\n",
       " 'Iela',\n",
       " 'Ist.',\n",
       " 'm2',\n",
       " 'Stāvs',\n",
       " 'Sērija',\n",
       " 'Cena, m2',\n",
       " 'Cena']"
      ]
     },
     "execution_count": 77,
     "metadata": {},
     "output_type": "execute_result"
    }
   ],
   "source": [
    "columnNames"
   ]
  },
  {
   "cell_type": "code",
   "execution_count": 78,
   "metadata": {},
   "outputs": [
    {
     "data": {
      "text/html": [
       "<div>\n",
       "<style scoped>\n",
       "    .dataframe tbody tr th:only-of-type {\n",
       "        vertical-align: middle;\n",
       "    }\n",
       "\n",
       "    .dataframe tbody tr th {\n",
       "        vertical-align: top;\n",
       "    }\n",
       "\n",
       "    .dataframe thead th {\n",
       "        text-align: right;\n",
       "    }\n",
       "</style>\n",
       "<table border=\"1\" class=\"dataframe\">\n",
       "  <thead>\n",
       "    <tr style=\"text-align: right;\">\n",
       "      <th></th>\n",
       "      <th>URL</th>\n",
       "      <th>Description</th>\n",
       "      <th>Iela</th>\n",
       "      <th>Ist.</th>\n",
       "      <th>m2</th>\n",
       "      <th>Stāvs</th>\n",
       "      <th>Sērija</th>\n",
       "      <th>Cena, m2</th>\n",
       "      <th>Cena</th>\n",
       "    </tr>\n",
       "  </thead>\n",
       "  <tbody>\n",
       "    <tr>\n",
       "      <th>0</th>\n",
       "      <td>https://www.ss.com/msg/lv/real-estate/flats/ri...</td>\n",
       "      <td>Владелец начинает продажу квартир в здании про...</td>\n",
       "      <td>Avotu 4</td>\n",
       "      <td>1</td>\n",
       "      <td>26</td>\n",
       "      <td>2/5</td>\n",
       "      <td>P. kara</td>\n",
       "      <td>1,661 €</td>\n",
       "      <td>43,190  €</td>\n",
       "    </tr>\n",
       "    <tr>\n",
       "      <th>1</th>\n",
       "      <td>https://www.ss.com/msg/lv/real-estate/flats/ri...</td>\n",
       "      <td>Pārdodu mansarda dzīvokli tikko pēc kapitālā r...</td>\n",
       "      <td>Miera 105</td>\n",
       "      <td>3</td>\n",
       "      <td>71</td>\n",
       "      <td>6/6</td>\n",
       "      <td>Renov.</td>\n",
       "      <td>1,823 €</td>\n",
       "      <td>129,402  €</td>\n",
       "    </tr>\n",
       "    <tr>\n",
       "      <th>2</th>\n",
       "      <td>https://www.ss.com/msg/lv/real-estate/flats/ri...</td>\n",
       "      <td>Pārdod 48, 7 kvadrātmetrus plašu divu izolētu ...</td>\n",
       "      <td>Alūksnes 2</td>\n",
       "      <td>2</td>\n",
       "      <td>49</td>\n",
       "      <td>3/5</td>\n",
       "      <td>Staļina</td>\n",
       "      <td>1,388 €</td>\n",
       "      <td>68,000  €</td>\n",
       "    </tr>\n",
       "    <tr>\n",
       "      <th>3</th>\n",
       "      <td>https://www.ss.com/msg/lv/real-estate/flats/ri...</td>\n",
       "      <td>Kompakts 3 istabu dzīvoklis renovētā ēkā. \\r\\n...</td>\n",
       "      <td>Blaumaņa 12</td>\n",
       "      <td>3</td>\n",
       "      <td>64</td>\n",
       "      <td>4/6</td>\n",
       "      <td>Renov.</td>\n",
       "      <td>2,382 €</td>\n",
       "      <td>152,475  €</td>\n",
       "    </tr>\n",
       "    <tr>\n",
       "      <th>4</th>\n",
       "      <td>https://www.ss.com/msg/lv/real-estate/flats/ri...</td>\n",
       "      <td>Pārdod 4 istabu dzīvokli Rīgas vēsturiskajā ce...</td>\n",
       "      <td>Dzirnavu 66A</td>\n",
       "      <td>4</td>\n",
       "      <td>102</td>\n",
       "      <td>2/6</td>\n",
       "      <td>P. kara</td>\n",
       "      <td>1,765 €</td>\n",
       "      <td>180,000  €</td>\n",
       "    </tr>\n",
       "  </tbody>\n",
       "</table>\n",
       "</div>"
      ],
      "text/plain": [
       "                                                 URL  \\\n",
       "0  https://www.ss.com/msg/lv/real-estate/flats/ri...   \n",
       "1  https://www.ss.com/msg/lv/real-estate/flats/ri...   \n",
       "2  https://www.ss.com/msg/lv/real-estate/flats/ri...   \n",
       "3  https://www.ss.com/msg/lv/real-estate/flats/ri...   \n",
       "4  https://www.ss.com/msg/lv/real-estate/flats/ri...   \n",
       "\n",
       "                                         Description          Iela Ist.   m2  \\\n",
       "0  Владелец начинает продажу квартир в здании про...       Avotu 4    1   26   \n",
       "1  Pārdodu mansarda dzīvokli tikko pēc kapitālā r...     Miera 105    3   71   \n",
       "2  Pārdod 48, 7 kvadrātmetrus plašu divu izolētu ...    Alūksnes 2    2   49   \n",
       "3  Kompakts 3 istabu dzīvoklis renovētā ēkā. \\r\\n...   Blaumaņa 12    3   64   \n",
       "4  Pārdod 4 istabu dzīvokli Rīgas vēsturiskajā ce...  Dzirnavu 66A    4  102   \n",
       "\n",
       "  Stāvs   Sērija Cena, m2        Cena  \n",
       "0   2/5  P. kara  1,661 €   43,190  €  \n",
       "1   6/6   Renov.  1,823 €  129,402  €  \n",
       "2   3/5  Staļina  1,388 €   68,000  €  \n",
       "3   4/6   Renov.  2,382 €  152,475  €  \n",
       "4   2/6  P. kara  1,765 €  180,000  €  "
      ]
     },
     "execution_count": 78,
     "metadata": {},
     "output_type": "execute_result"
    }
   ],
   "source": [
    "df.columns = columnNames\n",
    "df.head()"
   ]
  },
  {
   "cell_type": "code",
   "execution_count": 80,
   "metadata": {},
   "outputs": [],
   "source": [
    "df.to_excel('apartments.xlsx')"
   ]
  }
 ],
 "metadata": {
  "kernelspec": {
   "display_name": "Python 3",
   "language": "python",
   "name": "python3"
  },
  "language_info": {
   "codemirror_mode": {
    "name": "ipython",
    "version": 3
   },
   "file_extension": ".py",
   "mimetype": "text/x-python",
   "name": "python",
   "nbconvert_exporter": "python",
   "pygments_lexer": "ipython3",
   "version": "3.7.3"
  }
 },
 "nbformat": 4,
 "nbformat_minor": 2
}
