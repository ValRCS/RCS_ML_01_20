{
 "cells": [
  {
   "cell_type": "code",
   "execution_count": null,
   "metadata": {},
   "outputs": [],
   "source": [
    "# Classwork\n",
    "# Generate Data based on formula ax+b + randomerror(+-c)\n",
    "# a in range -20 to 20 with precision 0.1\n",
    "# b in range -1000 to 1000 with precision 0.1\n",
    "# c in +- range a/5\n",
    "\n",
    "# data should be in format [[x0, yo],[x1,y1]...]  \n",
    "# for examp.e [[0, 1.5],[1,2.7],[2,3.06],.....[99,451.45]]\n",
    "\n",
    "# save data in CSV"
   ]
  },
  {
   "cell_type": "code",
   "execution_count": 1,
   "metadata": {},
   "outputs": [
    {
     "data": {
      "text/plain": [
       "0.2788784790579575"
      ]
     },
     "execution_count": 1,
     "metadata": {},
     "output_type": "execute_result"
    }
   ],
   "source": [
    "import random\n",
    "random.random() # gives us 0 to 0.9999999"
   ]
  }
 ],
 "metadata": {
  "kernelspec": {
   "display_name": "Python 3",
   "language": "python",
   "name": "python3"
  },
  "language_info": {
   "codemirror_mode": {
    "name": "ipython",
    "version": 3
   },
   "file_extension": ".py",
   "mimetype": "text/x-python",
   "name": "python",
   "nbconvert_exporter": "python",
   "pygments_lexer": "ipython3",
   "version": "3.7.3"
  }
 },
 "nbformat": 4,
 "nbformat_minor": 2
}
