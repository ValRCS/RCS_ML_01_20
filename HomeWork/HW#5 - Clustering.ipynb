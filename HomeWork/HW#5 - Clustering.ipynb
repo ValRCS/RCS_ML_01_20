{
 "cells": [
  {
   "cell_type": "code",
   "execution_count": null,
   "metadata": {},
   "outputs": [],
   "source": [
    "# HW # 5 - Clustering\n",
    "# Read hw5_clusters.csv\n",
    "# Cluster the data using at least 2 different models\n",
    "# Suggestion: try KMeans and perhaps SpectralClustering\n",
    "# All available models are seen here https://scikit-learn.org/stable/modules/clustering.html#clustering\n",
    "# plot the clusterings using labels for color (hue)"
   ]
  },
  {
   "cell_type": "code",
   "execution_count": null,
   "metadata": {},
   "outputs": [],
   "source": [
    "# you will need pandas\n",
    "# scikit-learn\n",
    "# possibly seaborn for nicer pictures"
   ]
  }
 ],
 "metadata": {
  "kernelspec": {
   "display_name": "Python 3",
   "language": "python",
   "name": "python3"
  },
  "language_info": {
   "codemirror_mode": {
    "name": "ipython",
    "version": 3
   },
   "file_extension": ".py",
   "mimetype": "text/x-python",
   "name": "python",
   "nbconvert_exporter": "python",
   "pygments_lexer": "ipython3",
   "version": "3.7.3"
  }
 },
 "nbformat": 4,
 "nbformat_minor": 2
}
