{
 "cells": [
  {
   "cell_type": "code",
   "execution_count": null,
   "metadata": {},
   "outputs": [],
   "source": [
    "# load hw4.csv\n",
    "# read into Pandas DataFrame \n",
    "# you might need to delete or ignore the first column and possibly first row\n",
    "# plot the data\n",
    "\n",
    "# The data were generated with a function ax+b with some random errors\n",
    "\n",
    "# using scikit-learn LinearRegression\n",
    "\n",
    "# Find a and b\n",
    "\n",
    "# a - coef_\n",
    "# b - intercept_\n",
    "\n",
    "# Predict results when x = 1000\n",
    "\n",
    "# Bonus you can split the data using train_test_split\n",
    "\n",
    "# Bonus #2 fit using some other Regression Model from\n",
    "# https://scikit-learn.org/stable/modules/linear_model.html"
   ]
  }
 ],
 "metadata": {
  "kernelspec": {
   "display_name": "Python 3",
   "language": "python",
   "name": "python3"
  },
  "language_info": {
   "codemirror_mode": {
    "name": "ipython",
    "version": 3
   },
   "file_extension": ".py",
   "mimetype": "text/x-python",
   "name": "python",
   "nbconvert_exporter": "python",
   "pygments_lexer": "ipython3",
   "version": "3.7.3"
  }
 },
 "nbformat": 4,
 "nbformat_minor": 2
}
